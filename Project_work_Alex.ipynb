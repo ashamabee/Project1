{
 "cells": [
  {
   "cell_type": "code",
   "execution_count": 1,
   "metadata": {},
   "outputs": [],
   "source": [
    "import requests\n",
    "import json\n",
    "import pandas as pd\n",
    "import matplotlib.pyplot as plt\n",
    "import numpy as np\n",
    "\n"
   ]
  },
  {
   "cell_type": "code",
   "execution_count": null,
   "metadata": {},
   "outputs": [],
   "source": [
    "testdf = {}\n",
    "baseurl = \"https://api.yelp.com/v3/businesses/search\"\n",
    "#testresponse = requests.get(baseurl + \"q=restaurants\" + \"&location='Sacramento'\" + \"&radius=25000\" + \"&appid=\" + yelpkey)"
   ]
  },
  {
   "cell_type": "code",
   "execution_count": null,
   "metadata": {},
   "outputs": [],
   "source": [
    "testresponse"
   ]
  },
  {
   "cell_type": "code",
   "execution_count": null,
   "metadata": {},
   "outputs": [],
   "source": [
    "\n",
    "headers = {'Authorization': 'Bearer %s' % yelpkey}\n",
    "params = {'term':'restaurants','location':'Sacramento','limit':50}\n",
    "# Making a get request to the API\n",
    "req=requests.get(baseurl, params=params, headers=headers).json()"
   ]
  },
  {
   "cell_type": "code",
   "execution_count": null,
   "metadata": {},
   "outputs": [],
   "source": [
    "dataf = pd.json_normalize(reqjson)"
   ]
  },
  {
   "cell_type": "code",
   "execution_count": null,
   "metadata": {},
   "outputs": [],
   "source": [
    "clean_json = json.loads(json.dumps(req))\n",
    "sac2df = clean_json['businesses']\n",
    "sac2df = pd.DataFrame(sac2df)"
   ]
  },
  {
   "cell_type": "code",
   "execution_count": null,
   "metadata": {},
   "outputs": [],
   "source": [
    "sacdf.merge(sac2df, on=\"name\", how='left')"
   ]
  },
  {
   "cell_type": "code",
   "execution_count": null,
   "metadata": {},
   "outputs": [],
   "source": [
    "cleansacdf = pd.DataFrame.append(riolindadf,ignore_index=True,verify_integrity=True)"
   ]
  },
  {
   "cell_type": "code",
   "execution_count": null,
   "metadata": {},
   "outputs": [],
   "source": [
    "cleansacdf"
   ]
  },
  {
   "cell_type": "code",
   "execution_count": null,
   "metadata": {},
   "outputs": [],
   "source": [
    "saccopy = cleansacdf.copy()"
   ]
  },
  {
   "cell_type": "code",
   "execution_count": null,
   "metadata": {},
   "outputs": [],
   "source": [
    "saccopy.drop_duplicates(\"id\")"
   ]
  },
  {
   "cell_type": "code",
   "execution_count": null,
   "metadata": {},
   "outputs": [],
   "source": [
    "saccopy"
   ]
  },
  {
   "cell_type": "code",
   "execution_count": null,
   "metadata": {},
   "outputs": [],
   "source": [
    "mergeddf1 = pd.DataFrame.append(saccopy, riolindadf,ignore_index=True,verify_integrity=True)"
   ]
  },
  {
   "cell_type": "code",
   "execution_count": null,
   "metadata": {},
   "outputs": [],
   "source": [
    "mergeddf1"
   ]
  },
  {
   "cell_type": "code",
   "execution_count": null,
   "metadata": {},
   "outputs": [],
   "source": [
    "mergeddf1.drop_duplicates('id')"
   ]
  },
  {
   "cell_type": "code",
   "execution_count": null,
   "metadata": {},
   "outputs": [],
   "source": [
    "mergeddf1.to_csv('projectdata.csv', index=False)"
   ]
  },
  {
   "cell_type": "code",
   "execution_count": 2,
   "metadata": {},
   "outputs": [],
   "source": [
    "filepath = \"Project1/Final_Yelp_Data.csv\"\n",
    "yelpdf = pd.read_csv(filepath)"
   ]
  },
  {
   "cell_type": "code",
   "execution_count": 3,
   "metadata": {},
   "outputs": [
    {
     "data": {
      "text/html": [
       "<div>\n",
       "<style scoped>\n",
       "    .dataframe tbody tr th:only-of-type {\n",
       "        vertical-align: middle;\n",
       "    }\n",
       "\n",
       "    .dataframe tbody tr th {\n",
       "        vertical-align: top;\n",
       "    }\n",
       "\n",
       "    .dataframe thead th {\n",
       "        text-align: right;\n",
       "    }\n",
       "</style>\n",
       "<table border=\"1\" class=\"dataframe\">\n",
       "  <thead>\n",
       "    <tr style=\"text-align: right;\">\n",
       "      <th></th>\n",
       "      <th>Unnamed: 0</th>\n",
       "      <th>id</th>\n",
       "      <th>alias</th>\n",
       "      <th>name</th>\n",
       "      <th>image_url</th>\n",
       "      <th>is_closed</th>\n",
       "      <th>url</th>\n",
       "      <th>review_count</th>\n",
       "      <th>categories</th>\n",
       "      <th>rating</th>\n",
       "      <th>coordinates</th>\n",
       "      <th>transactions</th>\n",
       "      <th>location</th>\n",
       "      <th>phone</th>\n",
       "      <th>display_phone</th>\n",
       "      <th>distance</th>\n",
       "      <th>price</th>\n",
       "      <th>Unnamed: 0.1</th>\n",
       "    </tr>\n",
       "  </thead>\n",
       "  <tbody>\n",
       "    <tr>\n",
       "      <th>0</th>\n",
       "      <td>0</td>\n",
       "      <td>Y3HNUBQJHAzWnnhk3iReiA</td>\n",
       "      <td>junoon-flavors-of-india-sacramento-2</td>\n",
       "      <td>Junoon Flavors Of India</td>\n",
       "      <td>https://s3-media1.fl.yelpcdn.com/bphoto/P7Pzdg...</td>\n",
       "      <td>False</td>\n",
       "      <td>https://www.yelp.com/biz/junoon-flavors-of-ind...</td>\n",
       "      <td>20</td>\n",
       "      <td>[{'alias': 'indpak', 'title': 'Indian'}]</td>\n",
       "      <td>5.0</td>\n",
       "      <td>{'latitude': 38.570471, 'longitude': -121.4571...</td>\n",
       "      <td>[]</td>\n",
       "      <td>{'address1': '3672 J St', 'address2': None, 'a...</td>\n",
       "      <td>1.916943e+10</td>\n",
       "      <td>(916) 942-9796</td>\n",
       "      <td>1267.138005</td>\n",
       "      <td>NaN</td>\n",
       "      <td>NaN</td>\n",
       "    </tr>\n",
       "    <tr>\n",
       "      <th>1</th>\n",
       "      <td>1</td>\n",
       "      <td>9GhIDT1D_8-0ZxKDIB2WpA</td>\n",
       "      <td>shake-shack-sacramento</td>\n",
       "      <td>Shake Shack</td>\n",
       "      <td>https://s3-media3.fl.yelpcdn.com/bphoto/TxbovZ...</td>\n",
       "      <td>False</td>\n",
       "      <td>https://www.yelp.com/biz/shake-shack-sacrament...</td>\n",
       "      <td>168</td>\n",
       "      <td>[{'alias': 'burgers', 'title': 'Burgers'}, {'a...</td>\n",
       "      <td>3.0</td>\n",
       "      <td>{'latitude': 38.568686, 'longitude': -121.487243}</td>\n",
       "      <td>['delivery']</td>\n",
       "      <td>{'address1': '1710 R St', 'address2': 'Ste 190...</td>\n",
       "      <td>1.279321e+10</td>\n",
       "      <td>(279) 321-4002</td>\n",
       "      <td>3883.061550</td>\n",
       "      <td>NaN</td>\n",
       "      <td>NaN</td>\n",
       "    </tr>\n",
       "    <tr>\n",
       "      <th>2</th>\n",
       "      <td>2</td>\n",
       "      <td>LwiOfwMNDndIPm3QSh8wFQ</td>\n",
       "      <td>south-sacramento</td>\n",
       "      <td>South</td>\n",
       "      <td>https://s3-media3.fl.yelpcdn.com/bphoto/yHsuXv...</td>\n",
       "      <td>False</td>\n",
       "      <td>https://www.yelp.com/biz/south-sacramento?adju...</td>\n",
       "      <td>1590</td>\n",
       "      <td>[{'alias': 'southern', 'title': 'Southern'}]</td>\n",
       "      <td>4.0</td>\n",
       "      <td>{'latitude': 38.5687015705627, 'longitude': -1...</td>\n",
       "      <td>['delivery']</td>\n",
       "      <td>{'address1': '2005 11th St', 'address2': '', '...</td>\n",
       "      <td>1.916383e+10</td>\n",
       "      <td>(916) 382-9722</td>\n",
       "      <td>4735.638709</td>\n",
       "      <td>$$</td>\n",
       "      <td>NaN</td>\n",
       "    </tr>\n",
       "    <tr>\n",
       "      <th>3</th>\n",
       "      <td>3</td>\n",
       "      <td>myoaFyZ9RIG_p2rkOQiWlA</td>\n",
       "      <td>fixins-soul-kitchen-sacramento-2</td>\n",
       "      <td>Fixins Soul Kitchen</td>\n",
       "      <td>https://s3-media4.fl.yelpcdn.com/bphoto/wVYnJG...</td>\n",
       "      <td>False</td>\n",
       "      <td>https://www.yelp.com/biz/fixins-soul-kitchen-s...</td>\n",
       "      <td>946</td>\n",
       "      <td>[{'alias': 'soulfood', 'title': 'Soul Food'}, ...</td>\n",
       "      <td>4.5</td>\n",
       "      <td>{'latitude': 38.55147, 'longitude': -121.46924}</td>\n",
       "      <td>['delivery']</td>\n",
       "      <td>{'address1': '3428 3rd Ave', 'address2': '', '...</td>\n",
       "      <td>1.917000e+10</td>\n",
       "      <td>(916) 999-7685</td>\n",
       "      <td>3270.943674</td>\n",
       "      <td>$$</td>\n",
       "      <td>NaN</td>\n",
       "    </tr>\n",
       "    <tr>\n",
       "      <th>4</th>\n",
       "      <td>4</td>\n",
       "      <td>rQaH3Jr6BxFhX5pXa6W6_w</td>\n",
       "      <td>chando-s-tacos-sacramento</td>\n",
       "      <td>Chando’s Tacos</td>\n",
       "      <td>https://s3-media2.fl.yelpcdn.com/bphoto/yoraiB...</td>\n",
       "      <td>False</td>\n",
       "      <td>https://www.yelp.com/biz/chando-s-tacos-sacram...</td>\n",
       "      <td>14</td>\n",
       "      <td>[{'alias': 'mexican', 'title': 'Mexican'}]</td>\n",
       "      <td>4.5</td>\n",
       "      <td>{'latitude': 38.564075, 'longitude': -121.4340...</td>\n",
       "      <td>[]</td>\n",
       "      <td>{'address1': '5644 J St', 'address2': '', 'add...</td>\n",
       "      <td>1.916477e+10</td>\n",
       "      <td>(916) 476-6312</td>\n",
       "      <td>1210.413973</td>\n",
       "      <td>NaN</td>\n",
       "      <td>NaN</td>\n",
       "    </tr>\n",
       "    <tr>\n",
       "      <th>...</th>\n",
       "      <td>...</td>\n",
       "      <td>...</td>\n",
       "      <td>...</td>\n",
       "      <td>...</td>\n",
       "      <td>...</td>\n",
       "      <td>...</td>\n",
       "      <td>...</td>\n",
       "      <td>...</td>\n",
       "      <td>...</td>\n",
       "      <td>...</td>\n",
       "      <td>...</td>\n",
       "      <td>...</td>\n",
       "      <td>...</td>\n",
       "      <td>...</td>\n",
       "      <td>...</td>\n",
       "      <td>...</td>\n",
       "      <td>...</td>\n",
       "      <td>...</td>\n",
       "    </tr>\n",
       "    <tr>\n",
       "      <th>608</th>\n",
       "      <td>1062</td>\n",
       "      <td>l7Fe3Q1YMHwZYBLcKR4tKA</td>\n",
       "      <td>smoke-junction-cafe-sacramento</td>\n",
       "      <td>Smoke Junction Cafe</td>\n",
       "      <td>https://s3-media2.fl.yelpcdn.com/bphoto/N70LJl...</td>\n",
       "      <td>False</td>\n",
       "      <td>https://www.yelp.com/biz/smoke-junction-cafe-s...</td>\n",
       "      <td>32</td>\n",
       "      <td>[{'alias': 'bbq', 'title': 'Barbeque'}, {'alia...</td>\n",
       "      <td>4.0</td>\n",
       "      <td>{'latitude': 38.7050490891277, 'longitude': -1...</td>\n",
       "      <td>['delivery']</td>\n",
       "      <td>{'address1': '5859 Antelope Rd', 'address2': '...</td>\n",
       "      <td>1.916948e+10</td>\n",
       "      <td>(916) 947-8672</td>\n",
       "      <td>12195.276691</td>\n",
       "      <td>$</td>\n",
       "      <td>469.0</td>\n",
       "    </tr>\n",
       "    <tr>\n",
       "      <th>609</th>\n",
       "      <td>1064</td>\n",
       "      <td>4QkgyBIyqxPzKL7Ul7u0Ig</td>\n",
       "      <td>tealicious-sacramento-3</td>\n",
       "      <td>Tealicious</td>\n",
       "      <td>https://s3-media2.fl.yelpcdn.com/bphoto/lcwSxz...</td>\n",
       "      <td>False</td>\n",
       "      <td>https://www.yelp.com/biz/tealicious-sacramento...</td>\n",
       "      <td>169</td>\n",
       "      <td>[{'alias': 'bubbletea', 'title': 'Bubble Tea'}...</td>\n",
       "      <td>4.0</td>\n",
       "      <td>{'latitude': 38.5275870192814, 'longitude': -1...</td>\n",
       "      <td>['pickup']</td>\n",
       "      <td>{'address1': '5101 Freeport Blvd', 'address2':...</td>\n",
       "      <td>1.916759e+10</td>\n",
       "      <td>(916) 758-5179</td>\n",
       "      <td>12970.787834</td>\n",
       "      <td>$</td>\n",
       "      <td>471.0</td>\n",
       "    </tr>\n",
       "    <tr>\n",
       "      <th>610</th>\n",
       "      <td>1065</td>\n",
       "      <td>glX_vsxgkBeYuQJpiUOCqw</td>\n",
       "      <td>three-sisters-mexican-restaurant-sacramento</td>\n",
       "      <td>Three Sisters Mexican Restaurant</td>\n",
       "      <td>https://s3-media1.fl.yelpcdn.com/bphoto/viDs7a...</td>\n",
       "      <td>False</td>\n",
       "      <td>https://www.yelp.com/biz/three-sisters-mexican...</td>\n",
       "      <td>403</td>\n",
       "      <td>[{'alias': 'mexican', 'title': 'Mexican'}, {'a...</td>\n",
       "      <td>3.0</td>\n",
       "      <td>{'latitude': 38.56015, 'longitude': -121.4435}</td>\n",
       "      <td>['pickup', 'delivery']</td>\n",
       "      <td>{'address1': '5100 Folsom Blvd', 'address2': '...</td>\n",
       "      <td>1.916453e+10</td>\n",
       "      <td>(916) 452-7442</td>\n",
       "      <td>7158.401123</td>\n",
       "      <td>$$</td>\n",
       "      <td>474.0</td>\n",
       "    </tr>\n",
       "    <tr>\n",
       "      <th>611</th>\n",
       "      <td>1067</td>\n",
       "      <td>sv8Nf0mexd6N_koap_Itsw</td>\n",
       "      <td>honey-baked-ham-company-fair-oaks</td>\n",
       "      <td>Honey Baked Ham Company</td>\n",
       "      <td>https://s3-media1.fl.yelpcdn.com/bphoto/Smk2uM...</td>\n",
       "      <td>False</td>\n",
       "      <td>https://www.yelp.com/biz/honey-baked-ham-compa...</td>\n",
       "      <td>66</td>\n",
       "      <td>[{'alias': 'meats', 'title': 'Meat Shops'}, {'...</td>\n",
       "      <td>3.5</td>\n",
       "      <td>{'latitude': 38.6623840332031, 'longitude': -1...</td>\n",
       "      <td>['pickup', 'delivery']</td>\n",
       "      <td>{'address1': '5300 Sunrise Blvd', 'address2': ...</td>\n",
       "      <td>1.916962e+10</td>\n",
       "      <td>(916) 962-1426</td>\n",
       "      <td>11650.635930</td>\n",
       "      <td>$</td>\n",
       "      <td>476.0</td>\n",
       "    </tr>\n",
       "    <tr>\n",
       "      <th>612</th>\n",
       "      <td>1069</td>\n",
       "      <td>NHsVI4KvHpe0l6cqoo39Mg</td>\n",
       "      <td>sourdough-and-co-citrus-heights-2</td>\n",
       "      <td>Sourdough &amp; Co.</td>\n",
       "      <td>https://s3-media1.fl.yelpcdn.com/bphoto/m_LCCz...</td>\n",
       "      <td>False</td>\n",
       "      <td>https://www.yelp.com/biz/sourdough-and-co-citr...</td>\n",
       "      <td>116</td>\n",
       "      <td>[{'alias': 'salad', 'title': 'Salad'}, {'alias...</td>\n",
       "      <td>3.5</td>\n",
       "      <td>{'latitude': 38.664591, 'longitude': -121.272799}</td>\n",
       "      <td>['delivery']</td>\n",
       "      <td>{'address1': '5437 Sunrise Blvd', 'address2': ...</td>\n",
       "      <td>1.916823e+10</td>\n",
       "      <td>(916) 823-3900</td>\n",
       "      <td>11718.138728</td>\n",
       "      <td>$$</td>\n",
       "      <td>478.0</td>\n",
       "    </tr>\n",
       "  </tbody>\n",
       "</table>\n",
       "<p>613 rows × 18 columns</p>\n",
       "</div>"
      ],
      "text/plain": [
       "     Unnamed: 0                      id  \\\n",
       "0             0  Y3HNUBQJHAzWnnhk3iReiA   \n",
       "1             1  9GhIDT1D_8-0ZxKDIB2WpA   \n",
       "2             2  LwiOfwMNDndIPm3QSh8wFQ   \n",
       "3             3  myoaFyZ9RIG_p2rkOQiWlA   \n",
       "4             4  rQaH3Jr6BxFhX5pXa6W6_w   \n",
       "..          ...                     ...   \n",
       "608        1062  l7Fe3Q1YMHwZYBLcKR4tKA   \n",
       "609        1064  4QkgyBIyqxPzKL7Ul7u0Ig   \n",
       "610        1065  glX_vsxgkBeYuQJpiUOCqw   \n",
       "611        1067  sv8Nf0mexd6N_koap_Itsw   \n",
       "612        1069  NHsVI4KvHpe0l6cqoo39Mg   \n",
       "\n",
       "                                           alias  \\\n",
       "0           junoon-flavors-of-india-sacramento-2   \n",
       "1                         shake-shack-sacramento   \n",
       "2                               south-sacramento   \n",
       "3               fixins-soul-kitchen-sacramento-2   \n",
       "4                      chando-s-tacos-sacramento   \n",
       "..                                           ...   \n",
       "608               smoke-junction-cafe-sacramento   \n",
       "609                      tealicious-sacramento-3   \n",
       "610  three-sisters-mexican-restaurant-sacramento   \n",
       "611            honey-baked-ham-company-fair-oaks   \n",
       "612            sourdough-and-co-citrus-heights-2   \n",
       "\n",
       "                                 name  \\\n",
       "0             Junoon Flavors Of India   \n",
       "1                         Shake Shack   \n",
       "2                               South   \n",
       "3                 Fixins Soul Kitchen   \n",
       "4                      Chando’s Tacos   \n",
       "..                                ...   \n",
       "608               Smoke Junction Cafe   \n",
       "609                        Tealicious   \n",
       "610  Three Sisters Mexican Restaurant   \n",
       "611           Honey Baked Ham Company   \n",
       "612                   Sourdough & Co.   \n",
       "\n",
       "                                             image_url  is_closed  \\\n",
       "0    https://s3-media1.fl.yelpcdn.com/bphoto/P7Pzdg...      False   \n",
       "1    https://s3-media3.fl.yelpcdn.com/bphoto/TxbovZ...      False   \n",
       "2    https://s3-media3.fl.yelpcdn.com/bphoto/yHsuXv...      False   \n",
       "3    https://s3-media4.fl.yelpcdn.com/bphoto/wVYnJG...      False   \n",
       "4    https://s3-media2.fl.yelpcdn.com/bphoto/yoraiB...      False   \n",
       "..                                                 ...        ...   \n",
       "608  https://s3-media2.fl.yelpcdn.com/bphoto/N70LJl...      False   \n",
       "609  https://s3-media2.fl.yelpcdn.com/bphoto/lcwSxz...      False   \n",
       "610  https://s3-media1.fl.yelpcdn.com/bphoto/viDs7a...      False   \n",
       "611  https://s3-media1.fl.yelpcdn.com/bphoto/Smk2uM...      False   \n",
       "612  https://s3-media1.fl.yelpcdn.com/bphoto/m_LCCz...      False   \n",
       "\n",
       "                                                   url  review_count  \\\n",
       "0    https://www.yelp.com/biz/junoon-flavors-of-ind...            20   \n",
       "1    https://www.yelp.com/biz/shake-shack-sacrament...           168   \n",
       "2    https://www.yelp.com/biz/south-sacramento?adju...          1590   \n",
       "3    https://www.yelp.com/biz/fixins-soul-kitchen-s...           946   \n",
       "4    https://www.yelp.com/biz/chando-s-tacos-sacram...            14   \n",
       "..                                                 ...           ...   \n",
       "608  https://www.yelp.com/biz/smoke-junction-cafe-s...            32   \n",
       "609  https://www.yelp.com/biz/tealicious-sacramento...           169   \n",
       "610  https://www.yelp.com/biz/three-sisters-mexican...           403   \n",
       "611  https://www.yelp.com/biz/honey-baked-ham-compa...            66   \n",
       "612  https://www.yelp.com/biz/sourdough-and-co-citr...           116   \n",
       "\n",
       "                                            categories  rating  \\\n",
       "0             [{'alias': 'indpak', 'title': 'Indian'}]     5.0   \n",
       "1    [{'alias': 'burgers', 'title': 'Burgers'}, {'a...     3.0   \n",
       "2         [{'alias': 'southern', 'title': 'Southern'}]     4.0   \n",
       "3    [{'alias': 'soulfood', 'title': 'Soul Food'}, ...     4.5   \n",
       "4           [{'alias': 'mexican', 'title': 'Mexican'}]     4.5   \n",
       "..                                                 ...     ...   \n",
       "608  [{'alias': 'bbq', 'title': 'Barbeque'}, {'alia...     4.0   \n",
       "609  [{'alias': 'bubbletea', 'title': 'Bubble Tea'}...     4.0   \n",
       "610  [{'alias': 'mexican', 'title': 'Mexican'}, {'a...     3.0   \n",
       "611  [{'alias': 'meats', 'title': 'Meat Shops'}, {'...     3.5   \n",
       "612  [{'alias': 'salad', 'title': 'Salad'}, {'alias...     3.5   \n",
       "\n",
       "                                           coordinates  \\\n",
       "0    {'latitude': 38.570471, 'longitude': -121.4571...   \n",
       "1    {'latitude': 38.568686, 'longitude': -121.487243}   \n",
       "2    {'latitude': 38.5687015705627, 'longitude': -1...   \n",
       "3      {'latitude': 38.55147, 'longitude': -121.46924}   \n",
       "4    {'latitude': 38.564075, 'longitude': -121.4340...   \n",
       "..                                                 ...   \n",
       "608  {'latitude': 38.7050490891277, 'longitude': -1...   \n",
       "609  {'latitude': 38.5275870192814, 'longitude': -1...   \n",
       "610     {'latitude': 38.56015, 'longitude': -121.4435}   \n",
       "611  {'latitude': 38.6623840332031, 'longitude': -1...   \n",
       "612  {'latitude': 38.664591, 'longitude': -121.272799}   \n",
       "\n",
       "               transactions  \\\n",
       "0                        []   \n",
       "1              ['delivery']   \n",
       "2              ['delivery']   \n",
       "3              ['delivery']   \n",
       "4                        []   \n",
       "..                      ...   \n",
       "608            ['delivery']   \n",
       "609              ['pickup']   \n",
       "610  ['pickup', 'delivery']   \n",
       "611  ['pickup', 'delivery']   \n",
       "612            ['delivery']   \n",
       "\n",
       "                                              location         phone  \\\n",
       "0    {'address1': '3672 J St', 'address2': None, 'a...  1.916943e+10   \n",
       "1    {'address1': '1710 R St', 'address2': 'Ste 190...  1.279321e+10   \n",
       "2    {'address1': '2005 11th St', 'address2': '', '...  1.916383e+10   \n",
       "3    {'address1': '3428 3rd Ave', 'address2': '', '...  1.917000e+10   \n",
       "4    {'address1': '5644 J St', 'address2': '', 'add...  1.916477e+10   \n",
       "..                                                 ...           ...   \n",
       "608  {'address1': '5859 Antelope Rd', 'address2': '...  1.916948e+10   \n",
       "609  {'address1': '5101 Freeport Blvd', 'address2':...  1.916759e+10   \n",
       "610  {'address1': '5100 Folsom Blvd', 'address2': '...  1.916453e+10   \n",
       "611  {'address1': '5300 Sunrise Blvd', 'address2': ...  1.916962e+10   \n",
       "612  {'address1': '5437 Sunrise Blvd', 'address2': ...  1.916823e+10   \n",
       "\n",
       "      display_phone      distance price  Unnamed: 0.1  \n",
       "0    (916) 942-9796   1267.138005   NaN           NaN  \n",
       "1    (279) 321-4002   3883.061550   NaN           NaN  \n",
       "2    (916) 382-9722   4735.638709    $$           NaN  \n",
       "3    (916) 999-7685   3270.943674    $$           NaN  \n",
       "4    (916) 476-6312   1210.413973   NaN           NaN  \n",
       "..              ...           ...   ...           ...  \n",
       "608  (916) 947-8672  12195.276691     $         469.0  \n",
       "609  (916) 758-5179  12970.787834     $         471.0  \n",
       "610  (916) 452-7442   7158.401123    $$         474.0  \n",
       "611  (916) 962-1426  11650.635930     $         476.0  \n",
       "612  (916) 823-3900  11718.138728    $$         478.0  \n",
       "\n",
       "[613 rows x 18 columns]"
      ]
     },
     "execution_count": 3,
     "metadata": {},
     "output_type": "execute_result"
    }
   ],
   "source": [
    "yelpdf"
   ]
  },
  {
   "cell_type": "code",
   "execution_count": 4,
   "metadata": {},
   "outputs": [],
   "source": [
    "yelpdf1 = yelpdf.copy()"
   ]
  },
  {
   "cell_type": "code",
   "execution_count": null,
   "metadata": {},
   "outputs": [],
   "source": [
    "yelpdf1.set_index(['review_count', 'price'])"
   ]
  },
  {
   "cell_type": "code",
   "execution_count": null,
   "metadata": {},
   "outputs": [],
   "source": [
    "yelpdf1.sort_values(by='review_count', ascending=False)"
   ]
  },
  {
   "cell_type": "code",
   "execution_count": 5,
   "metadata": {},
   "outputs": [],
   "source": [
    "pricedf = yelpdf1[['review_count','price']]"
   ]
  },
  {
   "cell_type": "code",
   "execution_count": 6,
   "metadata": {},
   "outputs": [
    {
     "data": {
      "text/html": [
       "<div>\n",
       "<style scoped>\n",
       "    .dataframe tbody tr th:only-of-type {\n",
       "        vertical-align: middle;\n",
       "    }\n",
       "\n",
       "    .dataframe tbody tr th {\n",
       "        vertical-align: top;\n",
       "    }\n",
       "\n",
       "    .dataframe thead th {\n",
       "        text-align: right;\n",
       "    }\n",
       "</style>\n",
       "<table border=\"1\" class=\"dataframe\">\n",
       "  <thead>\n",
       "    <tr style=\"text-align: right;\">\n",
       "      <th></th>\n",
       "      <th>review_count</th>\n",
       "    </tr>\n",
       "    <tr>\n",
       "      <th>price</th>\n",
       "      <th></th>\n",
       "    </tr>\n",
       "  </thead>\n",
       "  <tbody>\n",
       "    <tr>\n",
       "      <th>$</th>\n",
       "      <td>134.664122</td>\n",
       "    </tr>\n",
       "    <tr>\n",
       "      <th>$$</th>\n",
       "      <td>393.865217</td>\n",
       "    </tr>\n",
       "    <tr>\n",
       "      <th>$$$</th>\n",
       "      <td>609.200000</td>\n",
       "    </tr>\n",
       "    <tr>\n",
       "      <th>$$$$</th>\n",
       "      <td>705.000000</td>\n",
       "    </tr>\n",
       "  </tbody>\n",
       "</table>\n",
       "</div>"
      ],
      "text/plain": [
       "       review_count\n",
       "price              \n",
       "$        134.664122\n",
       "$$       393.865217\n",
       "$$$      609.200000\n",
       "$$$$     705.000000"
      ]
     },
     "execution_count": 6,
     "metadata": {},
     "output_type": "execute_result"
    }
   ],
   "source": [
    "pricereview = pricedf.groupby('price').mean()\n",
    "pricereview"
   ]
  },
  {
   "cell_type": "code",
   "execution_count": 7,
   "metadata": {},
   "outputs": [],
   "source": [
    "pricereview.rename({'$':1, '$$':2, '$$$':3, '$$$$':4}, inplace=True)"
   ]
  },
  {
   "cell_type": "code",
   "execution_count": null,
   "metadata": {},
   "outputs": [],
   "source": [
    "# replacements = {\n",
    "    \"$\": 1,\n",
    "    \"$$\": 2,\n",
    "    \"$$$\": 3,\n",
    "    \"$$$$\": 4,\n",
    "}\n",
    "pricereview.replace(replacements, inplace=True)"
   ]
  },
  {
   "cell_type": "code",
   "execution_count": null,
   "metadata": {},
   "outputs": [],
   "source": [
    "pricereview.rename(index={\"price\":\"Price Point\"},  columns = {\"review_count\":\"Review Average\"}, inplace=True)"
   ]
  },
  {
   "cell_type": "code",
   "execution_count": 22,
   "metadata": {},
   "outputs": [
    {
     "data": {
      "text/html": [
       "<div>\n",
       "<style scoped>\n",
       "    .dataframe tbody tr th:only-of-type {\n",
       "        vertical-align: middle;\n",
       "    }\n",
       "\n",
       "    .dataframe tbody tr th {\n",
       "        vertical-align: top;\n",
       "    }\n",
       "\n",
       "    .dataframe thead th {\n",
       "        text-align: right;\n",
       "    }\n",
       "</style>\n",
       "<table border=\"1\" class=\"dataframe\">\n",
       "  <thead>\n",
       "    <tr style=\"text-align: right;\">\n",
       "      <th></th>\n",
       "      <th>review_count</th>\n",
       "    </tr>\n",
       "    <tr>\n",
       "      <th>price</th>\n",
       "      <th></th>\n",
       "    </tr>\n",
       "  </thead>\n",
       "  <tbody>\n",
       "    <tr>\n",
       "      <th>1</th>\n",
       "      <td>134.664122</td>\n",
       "    </tr>\n",
       "    <tr>\n",
       "      <th>2</th>\n",
       "      <td>393.865217</td>\n",
       "    </tr>\n",
       "    <tr>\n",
       "      <th>3</th>\n",
       "      <td>609.200000</td>\n",
       "    </tr>\n",
       "    <tr>\n",
       "      <th>4</th>\n",
       "      <td>705.000000</td>\n",
       "    </tr>\n",
       "  </tbody>\n",
       "</table>\n",
       "</div>"
      ],
      "text/plain": [
       "       review_count\n",
       "price              \n",
       "1        134.664122\n",
       "2        393.865217\n",
       "3        609.200000\n",
       "4        705.000000"
      ]
     },
     "execution_count": 22,
     "metadata": {},
     "output_type": "execute_result"
    }
   ],
   "source": [
    "pricereview"
   ]
  },
  {
   "cell_type": "code",
   "execution_count": 21,
   "metadata": {},
   "outputs": [
    {
     "data": {
      "text/plain": [
       "<matplotlib.axes._subplots.AxesSubplot at 0x1f66d16b6c8>"
      ]
     },
     "execution_count": 21,
     "metadata": {},
     "output_type": "execute_result"
    },
    {
     "data": {
      "image/png": "[encoded data removed]",
      "text/plain": [
       "<Figure size 432x288 with 1 Axes>"
      ]
     },
     "metadata": {
      "needs_background": "light"
     },
     "output_type": "display_data"
    }
   ],
   "source": [
    "pricereview.plot.bar()"
   ]
  },
  {
   "cell_type": "code",
   "execution_count": 11,
   "metadata": {},
   "outputs": [],
   "source": [
    "pricedf2 = pricedf.groupby('price').sum()"
   ]
  },
  {
   "cell_type": "code",
   "execution_count": 24,
   "metadata": {},
   "outputs": [],
   "source": [
    "pricedf2 = pricedf2.reset_index()"
   ]
  },
  {
   "cell_type": "code",
   "execution_count": 14,
   "metadata": {},
   "outputs": [
    {
     "data": {
      "text/plain": [
       "<matplotlib.axes._subplots.AxesSubplot at 0x1f66bf67e88>"
      ]
     },
     "execution_count": 14,
     "metadata": {},
     "output_type": "execute_result"
    },
    {
     "data": {
      "image/png": "[encoded data removed]",
      "text/plain": [
       "<Figure size 432x288 with 1 Axes>"
      ]
     },
     "metadata": {
      "needs_background": "light"
     },
     "output_type": "display_data"
    }
   ],
   "source": [
    "pricedf2.rename(columns={\"review_count\":\"Review Total\"} )\n",
    "pricedf2.rename({'$':1, '$$':2, '$$$':3, '$$$$':4}, inplace=True)\n",
    "pricedf2.plot.bar()"
   ]
  },
  {
   "cell_type": "code",
   "execution_count": 25,
   "metadata": {},
   "outputs": [
    {
     "data": {
      "text/html": [
       "<div>\n",
       "<style scoped>\n",
       "    .dataframe tbody tr th:only-of-type {\n",
       "        vertical-align: middle;\n",
       "    }\n",
       "\n",
       "    .dataframe tbody tr th {\n",
       "        vertical-align: top;\n",
       "    }\n",
       "\n",
       "    .dataframe thead th {\n",
       "        text-align: right;\n",
       "    }\n",
       "</style>\n",
       "<table border=\"1\" class=\"dataframe\">\n",
       "  <thead>\n",
       "    <tr style=\"text-align: right;\">\n",
       "      <th></th>\n",
       "      <th>price</th>\n",
       "      <th>review_count</th>\n",
       "    </tr>\n",
       "  </thead>\n",
       "  <tbody>\n",
       "    <tr>\n",
       "      <th>0</th>\n",
       "      <td>1</td>\n",
       "      <td>35282</td>\n",
       "    </tr>\n",
       "    <tr>\n",
       "      <th>1</th>\n",
       "      <td>2</td>\n",
       "      <td>90589</td>\n",
       "    </tr>\n",
       "    <tr>\n",
       "      <th>2</th>\n",
       "      <td>3</td>\n",
       "      <td>6092</td>\n",
       "    </tr>\n",
       "    <tr>\n",
       "      <th>3</th>\n",
       "      <td>4</td>\n",
       "      <td>705</td>\n",
       "    </tr>\n",
       "  </tbody>\n",
       "</table>\n",
       "</div>"
      ],
      "text/plain": [
       "   price  review_count\n",
       "0      1         35282\n",
       "1      2         90589\n",
       "2      3          6092\n",
       "3      4           705"
      ]
     },
     "execution_count": 25,
     "metadata": {},
     "output_type": "execute_result"
    }
   ],
   "source": [
    "pricedf2"
   ]
  },
  {
   "cell_type": "code",
   "execution_count": 19,
   "metadata": {},
   "outputs": [
    {
     "data": {
      "text/plain": [
       "<matplotlib.axes._subplots.AxesSubplot at 0x1f66c0d6bc8>"
      ]
     },
     "execution_count": 19,
     "metadata": {},
     "output_type": "execute_result"
    },
    {
     "data": {
      "image/png": "[encoded data removed]",
      "text/plain": [
       "<Figure size 432x288 with 1 Axes>"
      ]
     },
     "metadata": {
      "needs_background": "light"
     },
     "output_type": "display_data"
    }
   ],
   "source": [
    "pricereview.rename(columns={\"review_count\":\"Review Average\"})\n",
    "pricereview.rename({'$':1, '$$':2, '$$$':3, '$$$$':4}, inplace=True)\n",
    "pricereview.plot.bar()"
   ]
  },
  {
   "cell_type": "code",
   "execution_count": 27,
   "metadata": {},
   "outputs": [
    {
     "data": {
      "text/html": [
       "<div>\n",
       "<style scoped>\n",
       "    .dataframe tbody tr th:only-of-type {\n",
       "        vertical-align: middle;\n",
       "    }\n",
       "\n",
       "    .dataframe tbody tr th {\n",
       "        vertical-align: top;\n",
       "    }\n",
       "\n",
       "    .dataframe thead th {\n",
       "        text-align: right;\n",
       "    }\n",
       "</style>\n",
       "<table border=\"1\" class=\"dataframe\">\n",
       "  <thead>\n",
       "    <tr style=\"text-align: right;\">\n",
       "      <th></th>\n",
       "      <th>price</th>\n",
       "      <th>review_count</th>\n",
       "    </tr>\n",
       "  </thead>\n",
       "  <tbody>\n",
       "    <tr>\n",
       "      <th>0</th>\n",
       "      <td>1</td>\n",
       "      <td>134.664122</td>\n",
       "    </tr>\n",
       "    <tr>\n",
       "      <th>1</th>\n",
       "      <td>2</td>\n",
       "      <td>393.865217</td>\n",
       "    </tr>\n",
       "    <tr>\n",
       "      <th>2</th>\n",
       "      <td>3</td>\n",
       "      <td>609.200000</td>\n",
       "    </tr>\n",
       "    <tr>\n",
       "      <th>3</th>\n",
       "      <td>4</td>\n",
       "      <td>705.000000</td>\n",
       "    </tr>\n",
       "  </tbody>\n",
       "</table>\n",
       "</div>"
      ],
      "text/plain": [
       "   price  review_count\n",
       "0      1    134.664122\n",
       "1      2    393.865217\n",
       "2      3    609.200000\n",
       "3      4    705.000000"
      ]
     },
     "execution_count": 27,
     "metadata": {},
     "output_type": "execute_result"
    }
   ],
   "source": [
    "pricereview = pricereview.reset_index()\n",
    "pricereview"
   ]
  },
  {
   "cell_type": "code",
   "execution_count": 28,
   "metadata": {},
   "outputs": [
    {
     "data": {
      "image/png": "[encoded data removed]",
      "text/plain": [
       "<Figure size 432x288 with 1 Axes>"
      ]
     },
     "metadata": {
      "needs_background": "light"
     },
     "output_type": "display_data"
    }
   ],
   "source": [
    "plt.title(\"Review Average\")\n",
    "plt.xlabel(\"Price Level\")\n",
    "plt.ylabel(\"Average Number of Reviews\")\n",
    "plt.xticks([1, 2, 3, 4], ['1', '2', '3', '4' ])\n",
    "plt.bar((pricereview[\"price\"]), pricereview[\"review_count\"])\n",
    "plt.show()\n",
    "\n"
   ]
  },
  {
   "cell_type": "code",
   "execution_count": 26,
   "metadata": {},
   "outputs": [
    {
     "data": {
      "image/png": "[encoded data removed]",
      "text/plain": [
       "<Figure size 432x288 with 1 Axes>"
      ]
     },
     "metadata": {
      "needs_background": "light"
     },
     "output_type": "display_data"
    }
   ],
   "source": [
    "plt.title(\"Review Totals\")\n",
    "plt.xlabel(\"Price Level\")\n",
    "plt.ylabel(\"Total Number of Reviews\")\n",
    "plt.xticks([1, 2, 3, 4], ['1', '2', '3', '4' ])\n",
    "plt.bar((pricedf2[\"price\"]), pricedf2[\"review_count\"])\n",
    "plt.show()"
   ]
  },
  {
   "cell_type": "code",
   "execution_count": null,
   "metadata": {},
   "outputs": [],
   "source": []
  }
 ],
 "metadata": {
  "kernelspec": {
   "display_name": "Python 3",
   "language": "python",
   "name": "python3"
  },
  "language_info": {
   "codemirror_mode": {
    "name": "ipython",
    "version": 3
   },
   "file_extension": ".py",
   "mimetype": "text/x-python",
   "name": "python",
   "nbconvert_exporter": "python",
   "pygments_lexer": "ipython3",
   "version": "3.7.6"
  }
 },
 "nbformat": 4,
 "nbformat_minor": 4
}
