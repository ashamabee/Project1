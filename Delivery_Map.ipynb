{
 "cells": [
  {
   "cell_type": "code",
   "execution_count": 1,
   "metadata": {},
   "outputs": [
    {
     "name": "stderr",
     "output_type": "stream",
     "text": [
      "Enabling notebook extension jupyter-gmaps/extension...\n",
      "      - Validating: ok\n"
     ]
    }
   ],
   "source": [
    "import matplotlib.pyplot as plt\n",
    "import pandas as pd\n",
    "import numpy as np\n",
    "import requests\n",
    "import gmaps\n",
    "import os\n",
    "\n",
    "g_key = \"\"\n",
    "%matplotlib inline\n",
    "!jupyter nbextension enable --py gmaps"
   ]
  },
  {
   "cell_type": "code",
   "execution_count": 2,
   "metadata": {},
   "outputs": [],
   "source": [
    "csv_path = 'Final_Yelp_Data.csv'\n",
    "yelp_df = pd.read_csv(csv_path)\n",
    "\n"
   ]
  },
  {
   "cell_type": "code",
   "execution_count": 3,
   "metadata": {},
   "outputs": [],
   "source": [
    "del yelp_df['Unnamed: 0.1'],yelp_df['Unnamed: 0'],yelp_df['distance'],yelp_df['is_closed']\n",
    "del yelp_df['image_url'],yelp_df['phone'],yelp_df['display_phone'],yelp_df['id'], yelp_df['alias'], yelp_df[\"url\"]\n"
   ]
  },
  {
   "cell_type": "code",
   "execution_count": 4,
   "metadata": {},
   "outputs": [
    {
     "data": {
      "text/plain": [
       "['delivery']                                        269\n",
       "[]                                                  161\n",
       "['pickup', 'delivery']                               92\n",
       "['delivery', 'pickup']                               76\n",
       "['pickup']                                            7\n",
       "['restaurant_reservation', 'delivery']                3\n",
       "['restaurant_reservation', 'pickup', 'delivery']      2\n",
       "['restaurant_reservation']                            2\n",
       "['restaurant_reservation', 'delivery', 'pickup']      1\n",
       "Name: transactions, dtype: int64"
      ]
     },
     "execution_count": 4,
     "metadata": {},
     "output_type": "execute_result"
    }
   ],
   "source": [
    "yelp_df['transactions'].value_counts()"
   ]
  },
  {
   "cell_type": "code",
   "execution_count": 5,
   "metadata": {},
   "outputs": [],
   "source": [
    "yelp_df['transactions'] = yelp_df['transactions'].replace(\n",
    "    {\"['delivery']\": \"True\", \n",
    "     \"[]\": \"False\",\n",
    "     \"['pickup', 'delivery']\": \"True\", \n",
    "     \"['delivery', 'pickup']\": \"True\", \n",
    "     \"['pickup']\":  \"False\",\n",
    "     \"['restaurant_reservation', 'delivery']\":\"True\", \n",
    "     \"['restaurant_reservation', 'pickup', 'delivery']\":\"True\",\n",
    "     \"['restaurant_reservation']\":'Theft',\n",
    "     \"['restaurant_reservation', 'delivery', 'pickup']\": \"True\",\n",
    "    })"
   ]
  },
  {
   "cell_type": "code",
   "execution_count": 6,
   "metadata": {},
   "outputs": [],
   "source": [
    "yelp_df = yelp_df.rename(columns={\"name\":\"Restaurant Name\", \"review_count\":\"Review Count\",\"categories\":\"Categories\",\"rating\":\"Rating\",\"transactions\":\"Delivery\",\"location\":\"Address\",\"price\":\"Price\",\"coordinates\":\"Coordinates\"})"
   ]
  },
  {
   "cell_type": "code",
   "execution_count": 7,
   "metadata": {},
   "outputs": [
    {
     "data": {
      "text/plain": [
       "\"{'latitude': 38.570471, 'longitude': -121.4571694}\""
      ]
     },
     "execution_count": 7,
     "metadata": {},
     "output_type": "execute_result"
    }
   ],
   "source": [
    "yelp_df.loc[0,\"Coordinates\"]"
   ]
  },
  {
   "cell_type": "code",
   "execution_count": 8,
   "metadata": {},
   "outputs": [],
   "source": [
    "coord = yelp_df.Coordinates.str.replace(\",|}\",\"\").str.split(expand=True,).drop([0,2],axis = 1)"
   ]
  },
  {
   "cell_type": "code",
   "execution_count": 9,
   "metadata": {},
   "outputs": [],
   "source": [
    "yelp_sacramento = pd.merge(yelp_df, coord, left_index=True, right_index=True)"
   ]
  },
  {
   "cell_type": "code",
   "execution_count": 10,
   "metadata": {},
   "outputs": [],
   "source": [
    "yelp_sacramento.drop(\"Coordinates\", axis=1, inplace=True)"
   ]
  },
  {
   "cell_type": "code",
   "execution_count": 11,
   "metadata": {},
   "outputs": [],
   "source": [
    "yelp_sacramento.rename(columns={1:\"Latitude\",3:\"Longitude\"}, inplace=True)"
   ]
  },
  {
   "cell_type": "code",
   "execution_count": 12,
   "metadata": {},
   "outputs": [
    {
     "data": {
      "text/html": [
       "<div>\n",
       "<style scoped>\n",
       "    .dataframe tbody tr th:only-of-type {\n",
       "        vertical-align: middle;\n",
       "    }\n",
       "\n",
       "    .dataframe tbody tr th {\n",
       "        vertical-align: top;\n",
       "    }\n",
       "\n",
       "    .dataframe thead th {\n",
       "        text-align: right;\n",
       "    }\n",
       "</style>\n",
       "<table border=\"1\" class=\"dataframe\">\n",
       "  <thead>\n",
       "    <tr style=\"text-align: right;\">\n",
       "      <th></th>\n",
       "      <th>Restaurant Name</th>\n",
       "      <th>Review Count</th>\n",
       "      <th>Categories</th>\n",
       "      <th>Rating</th>\n",
       "      <th>Delivery</th>\n",
       "      <th>Address</th>\n",
       "      <th>Price</th>\n",
       "      <th>Latitude</th>\n",
       "      <th>Longitude</th>\n",
       "    </tr>\n",
       "  </thead>\n",
       "  <tbody>\n",
       "    <tr>\n",
       "      <th>0</th>\n",
       "      <td>Junoon Flavors Of India</td>\n",
       "      <td>20</td>\n",
       "      <td>[{'alias': 'indpak', 'title': 'Indian'}]</td>\n",
       "      <td>5.0</td>\n",
       "      <td>False</td>\n",
       "      <td>{'address1': '3672 J St', 'address2': None, 'a...</td>\n",
       "      <td>NaN</td>\n",
       "      <td>38.570471</td>\n",
       "      <td>-121.4571694</td>\n",
       "    </tr>\n",
       "    <tr>\n",
       "      <th>1</th>\n",
       "      <td>Shake Shack</td>\n",
       "      <td>168</td>\n",
       "      <td>[{'alias': 'burgers', 'title': 'Burgers'}, {'a...</td>\n",
       "      <td>3.0</td>\n",
       "      <td>True</td>\n",
       "      <td>{'address1': '1710 R St', 'address2': 'Ste 190...</td>\n",
       "      <td>NaN</td>\n",
       "      <td>38.568686</td>\n",
       "      <td>-121.487243</td>\n",
       "    </tr>\n",
       "    <tr>\n",
       "      <th>2</th>\n",
       "      <td>South</td>\n",
       "      <td>1590</td>\n",
       "      <td>[{'alias': 'southern', 'title': 'Southern'}]</td>\n",
       "      <td>4.0</td>\n",
       "      <td>True</td>\n",
       "      <td>{'address1': '2005 11th St', 'address2': '', '...</td>\n",
       "      <td>$$</td>\n",
       "      <td>38.5687015705627</td>\n",
       "      <td>-121.497104891816</td>\n",
       "    </tr>\n",
       "    <tr>\n",
       "      <th>3</th>\n",
       "      <td>Fixins Soul Kitchen</td>\n",
       "      <td>946</td>\n",
       "      <td>[{'alias': 'soulfood', 'title': 'Soul Food'}, ...</td>\n",
       "      <td>4.5</td>\n",
       "      <td>True</td>\n",
       "      <td>{'address1': '3428 3rd Ave', 'address2': '', '...</td>\n",
       "      <td>$$</td>\n",
       "      <td>38.55147</td>\n",
       "      <td>-121.46924</td>\n",
       "    </tr>\n",
       "    <tr>\n",
       "      <th>4</th>\n",
       "      <td>Chando’s Tacos</td>\n",
       "      <td>14</td>\n",
       "      <td>[{'alias': 'mexican', 'title': 'Mexican'}]</td>\n",
       "      <td>4.5</td>\n",
       "      <td>False</td>\n",
       "      <td>{'address1': '5644 J St', 'address2': '', 'add...</td>\n",
       "      <td>NaN</td>\n",
       "      <td>38.564075</td>\n",
       "      <td>-121.43409833</td>\n",
       "    </tr>\n",
       "  </tbody>\n",
       "</table>\n",
       "</div>"
      ],
      "text/plain": [
       "           Restaurant Name  Review Count  \\\n",
       "0  Junoon Flavors Of India            20   \n",
       "1              Shake Shack           168   \n",
       "2                    South          1590   \n",
       "3      Fixins Soul Kitchen           946   \n",
       "4           Chando’s Tacos            14   \n",
       "\n",
       "                                          Categories  Rating Delivery  \\\n",
       "0           [{'alias': 'indpak', 'title': 'Indian'}]     5.0    False   \n",
       "1  [{'alias': 'burgers', 'title': 'Burgers'}, {'a...     3.0     True   \n",
       "2       [{'alias': 'southern', 'title': 'Southern'}]     4.0     True   \n",
       "3  [{'alias': 'soulfood', 'title': 'Soul Food'}, ...     4.5     True   \n",
       "4         [{'alias': 'mexican', 'title': 'Mexican'}]     4.5    False   \n",
       "\n",
       "                                             Address Price          Latitude  \\\n",
       "0  {'address1': '3672 J St', 'address2': None, 'a...   NaN         38.570471   \n",
       "1  {'address1': '1710 R St', 'address2': 'Ste 190...   NaN         38.568686   \n",
       "2  {'address1': '2005 11th St', 'address2': '', '...    $$  38.5687015705627   \n",
       "3  {'address1': '3428 3rd Ave', 'address2': '', '...    $$          38.55147   \n",
       "4  {'address1': '5644 J St', 'address2': '', 'add...   NaN         38.564075   \n",
       "\n",
       "           Longitude  \n",
       "0       -121.4571694  \n",
       "1        -121.487243  \n",
       "2  -121.497104891816  \n",
       "3         -121.46924  \n",
       "4      -121.43409833  "
      ]
     },
     "execution_count": 12,
     "metadata": {},
     "output_type": "execute_result"
    }
   ],
   "source": [
    "yelp_sacramento.head()"
   ]
  },
  {
   "cell_type": "code",
   "execution_count": 13,
   "metadata": {},
   "outputs": [],
   "source": [
    "yelp_sacramento[\"Latitude\"] = pd.to_numeric(yelp_sacramento[\"Latitude\"],errors=\"coerce\")\n",
    "yelp_sacramento[\"Longitude\"] = pd.to_numeric(yelp_sacramento[\"Longitude\"],errors=\"coerce\")\n",
    "yelp_sacramento.dropna(subset=[\"Latitude\",\"Longitude\"], inplace= True)"
   ]
  },
  {
   "cell_type": "code",
   "execution_count": 14,
   "metadata": {},
   "outputs": [],
   "source": [
    "info_box_template = \"\"\"\n",
    "<dl>\n",
    "<dt>Restaurant Name</dt><dd>{Restaurant Name}</dd>\n",
    "<dt>Rating</dt><dd>{Rating}</dd>\n",
    "<dt>Review Count</dt><dd>{Review Count}</dd>\n",
    "</dl>\n",
    "\"\"\"\n",
    "# Store the DataFrame Row\n",
    "\n",
    "\n",
    "# NOTE: be sure to update with your DataFrame name\n",
    "restaurant_info = [info_box_template.format(**row) for index, row in yelp_sacramento.iterrows()]\n",
    "locations = yelp_sacramento[[\"Latitude\", \"Longitude\"]]"
   ]
  },
  {
   "cell_type": "code",
   "execution_count": 15,
   "metadata": {},
   "outputs": [],
   "source": [
    "gmaps.configure(api_key=g_key)"
   ]
  },
  {
   "cell_type": "code",
   "execution_count": 16,
   "metadata": {},
   "outputs": [
    {
     "data": {
      "application/vnd.jupyter.widget-view+json": {
       "model_id": "5b3eac1898464372841653c38c04d6c9",
       "version_major": 2,
       "version_minor": 0
      },
      "text/plain": [
       "Figure(layout=FigureLayout(border='1px solid black', height='450px', margin='0 auto 0 auto', padding='1px', wi…"
      ]
     },
     "metadata": {},
     "output_type": "display_data"
    }
   ],
   "source": [
    "figure_layout = {\n",
    "    'width': '600px',\n",
    "    'height': '450px',\n",
    "    'border': '1px solid black',\n",
    "    'padding': '1px',\n",
    "    'margin': '0 auto 0 auto'\n",
    "}\n",
    "figure = gmaps.figure(layout=figure_layout)\n",
    "markers = gmaps.marker_layer(locations, info_box_content=restaurant_info)\n",
    "# Add the layer to the map\n",
    "figure.add_layer(markers)\n",
    "\n",
    "figure"
   ]
  },
  {
   "cell_type": "code",
   "execution_count": 17,
   "metadata": {},
   "outputs": [
    {
     "data": {
      "application/vnd.jupyter.widget-view+json": {
       "model_id": "3e70b1b8716e4780817e815dd38e24c3",
       "version_major": 2,
       "version_minor": 0
      },
      "text/plain": [
       "Figure(layout=FigureLayout(border='1px solid black', height='450px', margin='0 auto 0 auto', padding='1px', wi…"
      ]
     },
     "metadata": {},
     "output_type": "display_data"
    }
   ],
   "source": [
    "coordinates = pd.DataFrame({\n",
    "    \"Latitude\":yelp_sacramento[\"Latitude\"],\n",
    "    \"Longitude\":yelp_sacramento[\"Longitude\"]\n",
    "})\n",
    "\n",
    "figure_layout = {\n",
    "    'width': '600px',\n",
    "    'height': '450px',\n",
    "    'border': '1px solid black',\n",
    "    'padding': '1px',\n",
    "    'margin': '0 auto 0 auto'\n",
    "}\n",
    "\n",
    "fig = gmaps.figure(layout=figure_layout)\n",
    "layer = gmaps.heatmap_layer(coordinates)\n",
    "fig.add_layer(layer)\n",
    "fig"
   ]
  },
  {
   "cell_type": "code",
   "execution_count": 18,
   "metadata": {},
   "outputs": [],
   "source": [
    "sac_delivery_yes = yelp_sacramento[yelp_sacramento[\"Delivery\"]==\"True\"]\n",
    "sac_delivery_no = yelp_sacramento[yelp_sacramento[\"Delivery\"]==\"False\"]"
   ]
  },
  {
   "cell_type": "code",
   "execution_count": 19,
   "metadata": {},
   "outputs": [
    {
     "data": {
      "application/vnd.jupyter.widget-view+json": {
       "model_id": "76c7f155ad634aff98e3cc1f0ae13e87",
       "version_major": 2,
       "version_minor": 0
      },
      "text/plain": [
       "Figure(layout=FigureLayout(border='1px solid black', height='450px', margin='0 auto 0 auto', padding='1px', wi…"
      ]
     },
     "metadata": {},
     "output_type": "display_data"
    }
   ],
   "source": [
    "coordinates = pd.DataFrame({\n",
    "    \"Latitude\":sac_delivery_yes[\"Latitude\"],\n",
    "    \"Longitude\":sac_delivery_yes[\"Longitude\"]\n",
    "})\n",
    "\n",
    "figure_layout = {\n",
    "    'width': '600px',\n",
    "    'height': '450px',\n",
    "    'border': '1px solid black',\n",
    "    'padding': '1px',\n",
    "    'margin': '0 auto 0 auto'\n",
    "}\n",
    "\n",
    "fig_delivery = gmaps.figure(layout=figure_layout)\n",
    "layer = gmaps.heatmap_layer(coordinates)\n",
    "fig_delivery.add_layer(layer)\n",
    "fig_delivery"
   ]
  },
  {
   "cell_type": "code",
   "execution_count": 20,
   "metadata": {
    "scrolled": true
   },
   "outputs": [],
   "source": [
    "price_group = yelp_df.groupby(\"Price\").mean()\n",
    "price_group = price_group.rename({\"$\":\"1\",\"$$\":\"2\",\"$$$\":\"3\",\"$$$$\":\"4\"})\n",
    "price_group = price_group.reset_index()"
   ]
  },
  {
   "cell_type": "code",
   "execution_count": 21,
   "metadata": {},
   "outputs": [],
   "source": [
    "# price_clean = yelp_df.replace({\"$\":\"1\",\"$$\":\"2\",\"$$$\":\"3\",\"$$$$\":\"4\"})"
   ]
  },
  {
   "cell_type": "code",
   "execution_count": 55,
   "metadata": {},
   "outputs": [
    {
     "data": {
      "text/html": [
       "<div>\n",
       "<style scoped>\n",
       "    .dataframe tbody tr th:only-of-type {\n",
       "        vertical-align: middle;\n",
       "    }\n",
       "\n",
       "    .dataframe tbody tr th {\n",
       "        vertical-align: top;\n",
       "    }\n",
       "\n",
       "    .dataframe thead th {\n",
       "        text-align: right;\n",
       "    }\n",
       "</style>\n",
       "<table border=\"1\" class=\"dataframe\">\n",
       "  <thead>\n",
       "    <tr style=\"text-align: right;\">\n",
       "      <th></th>\n",
       "      <th>Restaurant Name</th>\n",
       "      <th>Review Count</th>\n",
       "      <th>Categories</th>\n",
       "      <th>Rating</th>\n",
       "      <th>Coordinates</th>\n",
       "      <th>Delivery</th>\n",
       "      <th>Address</th>\n",
       "      <th>Price</th>\n",
       "    </tr>\n",
       "  </thead>\n",
       "  <tbody>\n",
       "    <tr>\n",
       "      <th>451</th>\n",
       "      <td>Burger King</td>\n",
       "      <td>1</td>\n",
       "      <td>[{'alias': 'hotdogs', 'title': 'Fast Food'}, {...</td>\n",
       "      <td>4.0</td>\n",
       "      <td>{'latitude': 38.6665820275127, 'longitude': -1...</td>\n",
       "      <td>False</td>\n",
       "      <td>{'address1': '5443 Dudley Blvd', 'address2': '...</td>\n",
       "      <td>1</td>\n",
       "    </tr>\n",
       "    <tr>\n",
       "      <th>267</th>\n",
       "      <td>Fair Oaks Pizzeria</td>\n",
       "      <td>1</td>\n",
       "      <td>[{'alias': 'restaurants', 'title': 'Restaurant...</td>\n",
       "      <td>1.0</td>\n",
       "      <td>{'latitude': 38.639, 'longitude': -121.27424}</td>\n",
       "      <td>False</td>\n",
       "      <td>{'address1': '9830 Fair Oaks Blvd', 'address2'...</td>\n",
       "      <td>1</td>\n",
       "    </tr>\n",
       "    <tr>\n",
       "      <th>480</th>\n",
       "      <td>Café Hoshi</td>\n",
       "      <td>1</td>\n",
       "      <td>[{'alias': 'cafes', 'title': 'Cafes'}]</td>\n",
       "      <td>5.0</td>\n",
       "      <td>{'latitude': 38.5782404, 'longitude': -121.487...</td>\n",
       "      <td>False</td>\n",
       "      <td>{'address1': '1400 J St', 'address2': '', 'add...</td>\n",
       "      <td>2</td>\n",
       "    </tr>\n",
       "    <tr>\n",
       "      <th>507</th>\n",
       "      <td>Virga's Restaurant Bar &amp; Catering</td>\n",
       "      <td>1</td>\n",
       "      <td>[{'alias': 'restaurants', 'title': 'Restaurant...</td>\n",
       "      <td>4.0</td>\n",
       "      <td>{'latitude': 38.5730133056641, 'longitude': -1...</td>\n",
       "      <td>False</td>\n",
       "      <td>{'address1': '1501 14th St', 'address2': '', '...</td>\n",
       "      <td>2</td>\n",
       "    </tr>\n",
       "    <tr>\n",
       "      <th>399</th>\n",
       "      <td>Frosty USA</td>\n",
       "      <td>2</td>\n",
       "      <td>[{'alias': 'restaurants', 'title': 'Restaurant...</td>\n",
       "      <td>4.0</td>\n",
       "      <td>{'latitude': 38.6907806396484, 'longitude': -1...</td>\n",
       "      <td>False</td>\n",
       "      <td>{'address1': '6749 Rio Linda Blvd', 'address2'...</td>\n",
       "      <td>2</td>\n",
       "    </tr>\n",
       "    <tr>\n",
       "      <th>...</th>\n",
       "      <td>...</td>\n",
       "      <td>...</td>\n",
       "      <td>...</td>\n",
       "      <td>...</td>\n",
       "      <td>...</td>\n",
       "      <td>...</td>\n",
       "      <td>...</td>\n",
       "      <td>...</td>\n",
       "    </tr>\n",
       "    <tr>\n",
       "      <th>350</th>\n",
       "      <td>Yard House</td>\n",
       "      <td>2071</td>\n",
       "      <td>[{'alias': 'bars', 'title': 'Bars'}, {'alias':...</td>\n",
       "      <td>3.5</td>\n",
       "      <td>{'latitude': 38.768878772817, 'longitude': -12...</td>\n",
       "      <td>True</td>\n",
       "      <td>{'address1': '1166 Roseville Pkwy', 'address2'...</td>\n",
       "      <td>2</td>\n",
       "    </tr>\n",
       "    <tr>\n",
       "      <th>40</th>\n",
       "      <td>Tres Hermanas</td>\n",
       "      <td>2397</td>\n",
       "      <td>[{'alias': 'mexican', 'title': 'Mexican'}]</td>\n",
       "      <td>4.0</td>\n",
       "      <td>{'latitude': 38.57369, 'longitude': -121.47456}</td>\n",
       "      <td>True</td>\n",
       "      <td>{'address1': '2416 K St', 'address2': '', 'add...</td>\n",
       "      <td>2</td>\n",
       "    </tr>\n",
       "    <tr>\n",
       "      <th>48</th>\n",
       "      <td>Iron Horse Tavern</td>\n",
       "      <td>2435</td>\n",
       "      <td>[{'alias': 'bars', 'title': 'Bars'}, {'alias':...</td>\n",
       "      <td>4.0</td>\n",
       "      <td>{'latitude': 38.5695762064691, 'longitude': -1...</td>\n",
       "      <td>True</td>\n",
       "      <td>{'address1': '1800 15th St', 'address2': 'Ste ...</td>\n",
       "      <td>2</td>\n",
       "    </tr>\n",
       "    <tr>\n",
       "      <th>15</th>\n",
       "      <td>Oz Korean BBQ</td>\n",
       "      <td>2647</td>\n",
       "      <td>[{'alias': 'korean', 'title': 'Korean'}, {'ali...</td>\n",
       "      <td>4.0</td>\n",
       "      <td>{'latitude': 38.56349, 'longitude': -121.33496}</td>\n",
       "      <td>True</td>\n",
       "      <td>{'address1': '3343 Bradshaw Rd', 'address2': N...</td>\n",
       "      <td>2</td>\n",
       "    </tr>\n",
       "    <tr>\n",
       "      <th>20</th>\n",
       "      <td>Ramen House Ryujin</td>\n",
       "      <td>2881</td>\n",
       "      <td>[{'alias': 'ramen', 'title': 'Ramen'}, {'alias...</td>\n",
       "      <td>4.5</td>\n",
       "      <td>{'latitude': 38.5674, 'longitude': -121.4857}</td>\n",
       "      <td>True</td>\n",
       "      <td>{'address1': '1831 S St', 'address2': '', 'add...</td>\n",
       "      <td>1</td>\n",
       "    </tr>\n",
       "  </tbody>\n",
       "</table>\n",
       "<p>503 rows × 8 columns</p>\n",
       "</div>"
      ],
      "text/plain": [
       "                       Restaurant Name  Review Count  \\\n",
       "451                        Burger King             1   \n",
       "267                 Fair Oaks Pizzeria             1   \n",
       "480                         Café Hoshi             1   \n",
       "507  Virga's Restaurant Bar & Catering             1   \n",
       "399                         Frosty USA             2   \n",
       "..                                 ...           ...   \n",
       "350                         Yard House          2071   \n",
       "40                       Tres Hermanas          2397   \n",
       "48                   Iron Horse Tavern          2435   \n",
       "15                       Oz Korean BBQ          2647   \n",
       "20                  Ramen House Ryujin          2881   \n",
       "\n",
       "                                            Categories  Rating  \\\n",
       "451  [{'alias': 'hotdogs', 'title': 'Fast Food'}, {...     4.0   \n",
       "267  [{'alias': 'restaurants', 'title': 'Restaurant...     1.0   \n",
       "480             [{'alias': 'cafes', 'title': 'Cafes'}]     5.0   \n",
       "507  [{'alias': 'restaurants', 'title': 'Restaurant...     4.0   \n",
       "399  [{'alias': 'restaurants', 'title': 'Restaurant...     4.0   \n",
       "..                                                 ...     ...   \n",
       "350  [{'alias': 'bars', 'title': 'Bars'}, {'alias':...     3.5   \n",
       "40          [{'alias': 'mexican', 'title': 'Mexican'}]     4.0   \n",
       "48   [{'alias': 'bars', 'title': 'Bars'}, {'alias':...     4.0   \n",
       "15   [{'alias': 'korean', 'title': 'Korean'}, {'ali...     4.0   \n",
       "20   [{'alias': 'ramen', 'title': 'Ramen'}, {'alias...     4.5   \n",
       "\n",
       "                                           Coordinates Delivery  \\\n",
       "451  {'latitude': 38.6665820275127, 'longitude': -1...    False   \n",
       "267      {'latitude': 38.639, 'longitude': -121.27424}    False   \n",
       "480  {'latitude': 38.5782404, 'longitude': -121.487...    False   \n",
       "507  {'latitude': 38.5730133056641, 'longitude': -1...    False   \n",
       "399  {'latitude': 38.6907806396484, 'longitude': -1...    False   \n",
       "..                                                 ...      ...   \n",
       "350  {'latitude': 38.768878772817, 'longitude': -12...     True   \n",
       "40     {'latitude': 38.57369, 'longitude': -121.47456}     True   \n",
       "48   {'latitude': 38.5695762064691, 'longitude': -1...     True   \n",
       "15     {'latitude': 38.56349, 'longitude': -121.33496}     True   \n",
       "20       {'latitude': 38.5674, 'longitude': -121.4857}     True   \n",
       "\n",
       "                                               Address Price  \n",
       "451  {'address1': '5443 Dudley Blvd', 'address2': '...     1  \n",
       "267  {'address1': '9830 Fair Oaks Blvd', 'address2'...     1  \n",
       "480  {'address1': '1400 J St', 'address2': '', 'add...     2  \n",
       "507  {'address1': '1501 14th St', 'address2': '', '...     2  \n",
       "399  {'address1': '6749 Rio Linda Blvd', 'address2'...     2  \n",
       "..                                                 ...   ...  \n",
       "350  {'address1': '1166 Roseville Pkwy', 'address2'...     2  \n",
       "40   {'address1': '2416 K St', 'address2': '', 'add...     2  \n",
       "48   {'address1': '1800 15th St', 'address2': 'Ste ...     2  \n",
       "15   {'address1': '3343 Bradshaw Rd', 'address2': N...     2  \n",
       "20   {'address1': '1831 S St', 'address2': '', 'add...     1  \n",
       "\n",
       "[503 rows x 8 columns]"
      ]
     },
     "execution_count": 55,
     "metadata": {},
     "output_type": "execute_result"
    }
   ],
   "source": [
    "price_clean = price_clean.dropna()\n",
    "price_clean = price_clean.sort_values(by=[\"Price\"])\n",
    "price_clean.sort_values(by=[\"Review Count\", \"Price\"])"
   ]
  },
  {
   "cell_type": "code",
   "execution_count": 29,
   "metadata": {},
   "outputs": [
    {
     "data": {
      "image/png": "[encoded data removed]",
      "text/plain": [
       "<Figure size 432x288 with 1 Axes>"
      ]
     },
     "metadata": {
      "needs_background": "light"
     },
     "output_type": "display_data"
    },
    {
     "data": {
      "text/plain": [
       "<Figure size 432x288 with 0 Axes>"
      ]
     },
     "metadata": {},
     "output_type": "display_data"
    }
   ],
   "source": [
    "plt.title(\"Overall Review Count vs Price\")\n",
    "plt.xlabel(\"Price Level\")\n",
    "plt.ylabel(\"Number of Reviews\")\n",
    "\n",
    "plt.scatter(price_clean[\"Price\"],price_clean[\"Review Count\"])\n",
    "\n",
    "plt.show()\n",
    "plt.savefig('OverallReviewPrice.png')"
   ]
  },
  {
   "cell_type": "code",
   "execution_count": 31,
   "metadata": {},
   "outputs": [],
   "source": [
    "price_clean_delivery_yes = price_clean[price_clean[\"Delivery\"]==\"True\"]\n",
    "price_clean_delivery_no = price_clean[price_clean[\"Delivery\"]==\"False\"]"
   ]
  },
  {
   "cell_type": "code",
   "execution_count": 33,
   "metadata": {},
   "outputs": [
    {
     "data": {
      "image/png": "[encoded data removed]",
      "text/plain": [
       "<Figure size 432x288 with 1 Axes>"
      ]
     },
     "metadata": {
      "needs_background": "light"
     },
     "output_type": "display_data"
    },
    {
     "data": {
      "text/plain": [
       "<Figure size 432x288 with 0 Axes>"
      ]
     },
     "metadata": {},
     "output_type": "display_data"
    }
   ],
   "source": [
    "Labels=[\"Delivery\", \"No Delivery\"]\n",
    "\n",
    "plt.title(\"Restaurants by Price Level/Delivery\")\n",
    "plt.xlabel(\"Price Level\")\n",
    "plt.ylabel(\"Number of Reviews\")\n",
    "\n",
    "plt.scatter(price_clean_delivery_yes[\"Price\"],price_clean_delivery_yes[\"Review Count\"])\n",
    "plt.scatter(price_clean_delivery_no[\"Price\"],price_clean_delivery_no[\"Review Count\"],marker=\"x\", color=\"orange\")\n",
    "plt.legend(Labels,loc=0)\n",
    "plt.show()\n",
    "plt.savefig('OverallReviewPricebyDelivery.png')"
   ]
  },
  {
   "cell_type": "code",
   "execution_count": 49,
   "metadata": {},
   "outputs": [],
   "source": [
    "four_dollar = price_clean_delivery_yes.loc[price_clean_delivery_yes[\"Price\"] == \"4\"]"
   ]
  },
  {
   "cell_type": "code",
   "execution_count": 50,
   "metadata": {},
   "outputs": [
    {
     "data": {
      "text/html": [
       "<div>\n",
       "<style scoped>\n",
       "    .dataframe tbody tr th:only-of-type {\n",
       "        vertical-align: middle;\n",
       "    }\n",
       "\n",
       "    .dataframe tbody tr th {\n",
       "        vertical-align: top;\n",
       "    }\n",
       "\n",
       "    .dataframe thead th {\n",
       "        text-align: right;\n",
       "    }\n",
       "</style>\n",
       "<table border=\"1\" class=\"dataframe\">\n",
       "  <thead>\n",
       "    <tr style=\"text-align: right;\">\n",
       "      <th></th>\n",
       "      <th>Restaurant Name</th>\n",
       "      <th>Review Count</th>\n",
       "      <th>Categories</th>\n",
       "      <th>Rating</th>\n",
       "      <th>Coordinates</th>\n",
       "      <th>Delivery</th>\n",
       "      <th>Address</th>\n",
       "      <th>Price</th>\n",
       "    </tr>\n",
       "  </thead>\n",
       "  <tbody>\n",
       "    <tr>\n",
       "      <th>47</th>\n",
       "      <td>Morton's The Steakhouse</td>\n",
       "      <td>705</td>\n",
       "      <td>[{'alias': 'steak', 'title': 'Steakhouses'}, {...</td>\n",
       "      <td>4.0</td>\n",
       "      <td>{'latitude': 38.5784968, 'longitude': -121.498...</td>\n",
       "      <td>True</td>\n",
       "      <td>{'address1': '621 Capitol Mall', 'address2': '...</td>\n",
       "      <td>4</td>\n",
       "    </tr>\n",
       "  </tbody>\n",
       "</table>\n",
       "</div>"
      ],
      "text/plain": [
       "            Restaurant Name  Review Count  \\\n",
       "47  Morton's The Steakhouse           705   \n",
       "\n",
       "                                           Categories  Rating  \\\n",
       "47  [{'alias': 'steak', 'title': 'Steakhouses'}, {...     4.0   \n",
       "\n",
       "                                          Coordinates Delivery  \\\n",
       "47  {'latitude': 38.5784968, 'longitude': -121.498...     True   \n",
       "\n",
       "                                              Address Price  \n",
       "47  {'address1': '621 Capitol Mall', 'address2': '...     4  "
      ]
     },
     "execution_count": 50,
     "metadata": {},
     "output_type": "execute_result"
    }
   ],
   "source": [
    "four_dollar"
   ]
  },
  {
   "cell_type": "code",
   "execution_count": 56,
   "metadata": {},
   "outputs": [
    {
     "data": {
      "text/html": [
       "<div>\n",
       "<style scoped>\n",
       "    .dataframe tbody tr th:only-of-type {\n",
       "        vertical-align: middle;\n",
       "    }\n",
       "\n",
       "    .dataframe tbody tr th {\n",
       "        vertical-align: top;\n",
       "    }\n",
       "\n",
       "    .dataframe thead th {\n",
       "        text-align: right;\n",
       "    }\n",
       "</style>\n",
       "<table border=\"1\" class=\"dataframe\">\n",
       "  <thead>\n",
       "    <tr style=\"text-align: right;\">\n",
       "      <th></th>\n",
       "      <th>Restaurant Name</th>\n",
       "      <th>Review Count</th>\n",
       "      <th>Categories</th>\n",
       "      <th>Rating</th>\n",
       "      <th>Coordinates</th>\n",
       "      <th>Delivery</th>\n",
       "      <th>Address</th>\n",
       "      <th>Price</th>\n",
       "    </tr>\n",
       "  </thead>\n",
       "  <tbody>\n",
       "    <tr>\n",
       "      <th>20</th>\n",
       "      <td>Ramen House Ryujin</td>\n",
       "      <td>2881</td>\n",
       "      <td>[{'alias': 'ramen', 'title': 'Ramen'}, {'alias...</td>\n",
       "      <td>4.5</td>\n",
       "      <td>{'latitude': 38.5674, 'longitude': -121.4857}</td>\n",
       "      <td>True</td>\n",
       "      <td>{'address1': '1831 S St', 'address2': '', 'add...</td>\n",
       "      <td>1</td>\n",
       "    </tr>\n",
       "    <tr>\n",
       "      <th>15</th>\n",
       "      <td>Oz Korean BBQ</td>\n",
       "      <td>2647</td>\n",
       "      <td>[{'alias': 'korean', 'title': 'Korean'}, {'ali...</td>\n",
       "      <td>4.0</td>\n",
       "      <td>{'latitude': 38.56349, 'longitude': -121.33496}</td>\n",
       "      <td>True</td>\n",
       "      <td>{'address1': '3343 Bradshaw Rd', 'address2': N...</td>\n",
       "      <td>2</td>\n",
       "    </tr>\n",
       "    <tr>\n",
       "      <th>48</th>\n",
       "      <td>Iron Horse Tavern</td>\n",
       "      <td>2435</td>\n",
       "      <td>[{'alias': 'bars', 'title': 'Bars'}, {'alias':...</td>\n",
       "      <td>4.0</td>\n",
       "      <td>{'latitude': 38.5695762064691, 'longitude': -1...</td>\n",
       "      <td>True</td>\n",
       "      <td>{'address1': '1800 15th St', 'address2': 'Ste ...</td>\n",
       "      <td>2</td>\n",
       "    </tr>\n",
       "    <tr>\n",
       "      <th>40</th>\n",
       "      <td>Tres Hermanas</td>\n",
       "      <td>2397</td>\n",
       "      <td>[{'alias': 'mexican', 'title': 'Mexican'}]</td>\n",
       "      <td>4.0</td>\n",
       "      <td>{'latitude': 38.57369, 'longitude': -121.47456}</td>\n",
       "      <td>True</td>\n",
       "      <td>{'address1': '2416 K St', 'address2': '', 'add...</td>\n",
       "      <td>2</td>\n",
       "    </tr>\n",
       "    <tr>\n",
       "      <th>350</th>\n",
       "      <td>Yard House</td>\n",
       "      <td>2071</td>\n",
       "      <td>[{'alias': 'bars', 'title': 'Bars'}, {'alias':...</td>\n",
       "      <td>3.5</td>\n",
       "      <td>{'latitude': 38.768878772817, 'longitude': -12...</td>\n",
       "      <td>True</td>\n",
       "      <td>{'address1': '1166 Roseville Pkwy', 'address2'...</td>\n",
       "      <td>2</td>\n",
       "    </tr>\n",
       "  </tbody>\n",
       "</table>\n",
       "</div>"
      ],
      "text/plain": [
       "        Restaurant Name  Review Count  \\\n",
       "20   Ramen House Ryujin          2881   \n",
       "15        Oz Korean BBQ          2647   \n",
       "48    Iron Horse Tavern          2435   \n",
       "40        Tres Hermanas          2397   \n",
       "350          Yard House          2071   \n",
       "\n",
       "                                            Categories  Rating  \\\n",
       "20   [{'alias': 'ramen', 'title': 'Ramen'}, {'alias...     4.5   \n",
       "15   [{'alias': 'korean', 'title': 'Korean'}, {'ali...     4.0   \n",
       "48   [{'alias': 'bars', 'title': 'Bars'}, {'alias':...     4.0   \n",
       "40          [{'alias': 'mexican', 'title': 'Mexican'}]     4.0   \n",
       "350  [{'alias': 'bars', 'title': 'Bars'}, {'alias':...     3.5   \n",
       "\n",
       "                                           Coordinates Delivery  \\\n",
       "20       {'latitude': 38.5674, 'longitude': -121.4857}     True   \n",
       "15     {'latitude': 38.56349, 'longitude': -121.33496}     True   \n",
       "48   {'latitude': 38.5695762064691, 'longitude': -1...     True   \n",
       "40     {'latitude': 38.57369, 'longitude': -121.47456}     True   \n",
       "350  {'latitude': 38.768878772817, 'longitude': -12...     True   \n",
       "\n",
       "                                               Address Price  \n",
       "20   {'address1': '1831 S St', 'address2': '', 'add...     1  \n",
       "15   {'address1': '3343 Bradshaw Rd', 'address2': N...     2  \n",
       "48   {'address1': '1800 15th St', 'address2': 'Ste ...     2  \n",
       "40   {'address1': '2416 K St', 'address2': '', 'add...     2  \n",
       "350  {'address1': '1166 Roseville Pkwy', 'address2'...     2  "
      ]
     },
     "execution_count": 56,
     "metadata": {},
     "output_type": "execute_result"
    }
   ],
   "source": [
    "price_clean_delivery_yes.sort_values(by=[\"Review Count\"],ascending=False).head()"
   ]
  },
  {
   "cell_type": "code",
   "execution_count": null,
   "metadata": {},
   "outputs": [],
   "source": []
  }
 ],
 "metadata": {
  "kernelspec": {
   "display_name": "Python 3",
   "language": "python",
   "name": "python3"
  },
  "language_info": {
   "codemirror_mode": {
    "name": "ipython",
    "version": 3
   },
   "file_extension": ".py",
   "mimetype": "text/x-python",
   "name": "python",
   "nbconvert_exporter": "python",
   "pygments_lexer": "ipython3",
   "version": "3.7.6"
  }
 },
 "nbformat": 4,
 "nbformat_minor": 4
}
