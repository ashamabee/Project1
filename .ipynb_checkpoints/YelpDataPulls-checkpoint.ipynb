{
 "cells": [
  {
   "cell_type": "code",
   "execution_count": 1,
   "metadata": {},
   "outputs": [],
   "source": [
    "# Dependencies\n",
    "import requests\n",
    "import json\n",
    "import pandas as pd\n",
    "from pandas.io.json import json_normalize\n",
    "\n",
    "yelp_key = \"\"\n",
    "\n",
    "# We used the following code to pull data for 22 cities/neighborhoods \n",
    "# in the greater Sacramento area and then merged the data from each pull to a single CSV file\n",
    "\n",
    "\n",
    "headers = {'Authorization': 'Bearer %s' % yelp_key}\n",
    "url = \"https://api.yelp.com/v3/businesses/search\"\n",
    "params = {'term':'restaurant','location':'Antelope','radius':'40000','limit':'50','offset':'900'}\n",
    "req=requests.get(url, params=params, headers=headers)\n",
    "response = req.json()\n",
    "clean_json = json.loads(json.dumps(response))\n",
    "clean_df = clean_json['businesses']\n",
    "clean_df = pd.DataFrame(clean_df)"
   ]
  },
  {
   "cell_type": "code",
   "execution_count": 2,
   "metadata": {},
   "outputs": [],
   "source": [
    "\n",
    "headers = {'Authorization': 'Bearer %s' % yelp_key}\n",
    "url2 = \"https://api.yelp.com/v3/businesses/search\"\n",
    "params2 = {'term':'restaurant','location':'Roseville','limit':'50','radius':'40000'}\n",
    "req2=requests.get(url2, params=params2, headers=headers)\n",
    "response2 = req2.json()\n",
    "clean_json2 = json.loads(json.dumps(response2))\n",
    "clean_df2 = clean_json2['businesses']\n",
    "clean_df2 = pd.DataFrame(clean_df2)"
   ]
  },
  {
   "cell_type": "code",
   "execution_count": 3,
   "metadata": {},
   "outputs": [],
   "source": [
    "merge1 = pd.DataFrame.append(clean_df,clean_df2,ignore_index=True,verify_integrity=True)"
   ]
  },
  {
   "cell_type": "code",
   "execution_count": 4,
   "metadata": {
    "scrolled": true
   },
   "outputs": [],
   "source": [
    "headers = {'Authorization': 'Bearer %s' % yelp_key}\n",
    "url = \"https://api.yelp.com/v3/businesses/search\"\n",
    "params3 = {'term':'restaurant','location':'Natomas','radius':'40000','limit':'50','offset':'900'}\n",
    "req3=requests.get(url, params=params3, headers=headers)\n",
    "response3 = req3.json()\n",
    "clean_json3 = json.loads(json.dumps(response3))\n",
    "clean_df3 = clean_json3['businesses']\n",
    "clean_df3 = pd.DataFrame(clean_df3)"
   ]
  },
  {
   "cell_type": "code",
   "execution_count": 5,
   "metadata": {},
   "outputs": [],
   "source": [
    "merge2 = pd.DataFrame.append(merge1,clean_df3,ignore_index=True,verify_integrity=True)"
   ]
  },
  {
   "cell_type": "code",
   "execution_count": 6,
   "metadata": {},
   "outputs": [],
   "source": [
    "headers = {'Authorization': 'Bearer %s' % yelp_key}\n",
    "url = \"https://api.yelp.com/v3/businesses/search\"\n",
    "params4 = {'term':'restaurant','location':'Citrus Heights','radius':'40000','limit':'50','offset':'900'}\n",
    "req4=requests.get(url, params=params4, headers=headers)\n",
    "response4 = req4.json()\n",
    "clean_json4 = json.loads(json.dumps(response4))\n",
    "clean_df4 = clean_json4['businesses']\n",
    "clean_df4 = pd.DataFrame(clean_df4)"
   ]
  },
  {
   "cell_type": "code",
   "execution_count": 7,
   "metadata": {},
   "outputs": [],
   "source": [
    "merge3 = pd.DataFrame.append(merge2,clean_df4,ignore_index=True,verify_integrity=True)"
   ]
  },
  {
   "cell_type": "code",
   "execution_count": 8,
   "metadata": {},
   "outputs": [],
   "source": [
    "headers = {'Authorization': 'Bearer %s' % yelp_key}\n",
    "url = \"https://api.yelp.com/v3/businesses/search\"\n",
    "params5 = {'term':'restaurant','location':'West Sacramento','radius':'40000','limit':'50','offset':'900'}\n",
    "req5=requests.get(url, params=params5, headers=headers)\n",
    "response5 = req5.json()\n",
    "clean_json5 = json.loads(json.dumps(response5))\n",
    "clean_df5 = clean_json5['businesses']\n",
    "clean_df5 = pd.DataFrame(clean_df5)"
   ]
  },
  {
   "cell_type": "code",
   "execution_count": 9,
   "metadata": {},
   "outputs": [],
   "source": [
    "merge4 = pd.DataFrame.append(merge3,clean_df5,ignore_index=True,verify_integrity=True)"
   ]
  },
  {
   "cell_type": "code",
   "execution_count": 10,
   "metadata": {},
   "outputs": [],
   "source": [
    "merge4 = merge4.drop_duplicates(\"id\")"
   ]
  },
  {
   "cell_type": "code",
   "execution_count": 11,
   "metadata": {},
   "outputs": [],
   "source": [
    "headers = {'Authorization': 'Bearer %s' % yelp_key}\n",
    "url = \"https://api.yelp.com/v3/businesses/search\"\n",
    "params6 = {'term':'restaurant','location':'Del Paso Heights','radius':'40000','limit':'50','offset':'900'}\n",
    "req6=requests.get(url, params=params6, headers=headers)\n",
    "response6 = req6.json()\n",
    "clean_json6 = json.loads(json.dumps(response6))\n",
    "clean_df6 = clean_json6['businesses']\n",
    "clean_df6 = pd.DataFrame(clean_df6)"
   ]
  },
  {
   "cell_type": "code",
   "execution_count": 12,
   "metadata": {},
   "outputs": [],
   "source": [
    "merge5 = pd.DataFrame.append(merge4,clean_df6,ignore_index=True,verify_integrity=True)\n",
    "merge5 = merge5.drop_duplicates(\"id\")"
   ]
  },
  {
   "cell_type": "code",
   "execution_count": 13,
   "metadata": {},
   "outputs": [],
   "source": [
    "headers = {'Authorization': 'Bearer %s' % yelp_key}\n",
    "url = \"https://api.yelp.com/v3/businesses/search\"\n",
    "params7 = {'term':'restaurant','location':'East Sacramento','radius':'40000','limit':'50','offset':'900'}\n",
    "req7=requests.get(url, params=params7, headers=headers)\n",
    "response7 = req7.json()\n",
    "clean_json7 = json.loads(json.dumps(response7))\n",
    "clean_df7 = clean_json7['businesses']\n",
    "clean_df7 = pd.DataFrame(clean_df7)"
   ]
  },
  {
   "cell_type": "code",
   "execution_count": 14,
   "metadata": {},
   "outputs": [],
   "source": [
    "merge6 = pd.DataFrame.append(merge5,clean_df7,ignore_index=True,verify_integrity=True)"
   ]
  },
  {
   "cell_type": "code",
   "execution_count": 15,
   "metadata": {},
   "outputs": [],
   "source": [
    "headers = {'Authorization': 'Bearer %s' % yelp_key}\n",
    "url = \"https://api.yelp.com/v3/businesses/search\"\n",
    "params8 = {'term':'restaurant','location':'Midtown','radius':'40000','limit':'50','offset':'900'}\n",
    "req8=requests.get(url, params=params8, headers=headers)\n",
    "response8 = req8.json()\n",
    "clean_json8 = json.loads(json.dumps(response8))\n",
    "clean_df8 = clean_json8['businesses']\n",
    "clean_df8 = pd.DataFrame(clean_df8)\n",
    "\n",
    "merge7 = pd.DataFrame.append(merge6,clean_df8,ignore_index=True,verify_integrity=True)\n",
    "merge7 = merge7.drop_duplicates(\"id\")"
   ]
  },
  {
   "cell_type": "code",
   "execution_count": 16,
   "metadata": {},
   "outputs": [],
   "source": [
    "headers = {'Authorization': 'Bearer %s' % yelp_key}\n",
    "url = \"https://api.yelp.com/v3/businesses/search\"\n",
    "params9 = {'term':'restaurant','location':'Oak Park','radius':'40000','limit':'50','offset':'900'}\n",
    "req9=requests.get(url, params=params9, headers=headers)\n",
    "response9 = req9.json()\n",
    "clean_json9 = json.loads(json.dumps(response9))\n",
    "clean_df9 = clean_json9['businesses']\n",
    "clean_df9 = pd.DataFrame(clean_df9)\n",
    "\n",
    "merge8 = pd.DataFrame.append(merge7,clean_df9,ignore_index=True,verify_integrity=True)\n",
    "merge8 = merge8.drop_duplicates(\"id\")"
   ]
  },
  {
   "cell_type": "code",
   "execution_count": 17,
   "metadata": {},
   "outputs": [],
   "source": [
    "headers = {'Authorization': 'Bearer %s' % yelp_key}\n",
    "url = \"https://api.yelp.com/v3/businesses/search\"\n",
    "params10 = {'term':'restaurant','location':'Arden Arcade','radius':'40000','limit':'50','offset':'900'}\n",
    "req10=requests.get(url, params=params10, headers=headers)\n",
    "response10 = req10.json()\n",
    "clean_json10 = json.loads(json.dumps(response10))\n",
    "clean_df10 = clean_json10['businesses']\n",
    "clean_df10 = pd.DataFrame(clean_df10)\n",
    "\n",
    "merge9 = pd.DataFrame.append(merge8,clean_df10,ignore_index=True,verify_integrity=True)\n",
    "merge9 = merge9.drop_duplicates(\"id\")"
   ]
  },
  {
   "cell_type": "code",
   "execution_count": 18,
   "metadata": {},
   "outputs": [],
   "source": [
    "# Save Data to csv\n",
    "merge9.to_csv(\"YelpData_Maria.csv\")\n",
    "\n"
   ]
  },
  {
   "cell_type": "code",
   "execution_count": null,
   "metadata": {},
   "outputs": [],
   "source": []
  }
 ],
 "metadata": {
  "kernelspec": {
   "display_name": "Python 3",
   "language": "python",
   "name": "python3"
  },
  "language_info": {
   "codemirror_mode": {
    "name": "ipython",
    "version": 3
   },
   "file_extension": ".py",
   "mimetype": "text/x-python",
   "name": "python",
   "nbconvert_exporter": "python",
   "pygments_lexer": "ipython3",
   "version": "3.7.6"
  }
 },
 "nbformat": 4,
 "nbformat_minor": 4
}
