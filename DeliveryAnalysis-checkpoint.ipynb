{
 "cells": [
  {
   "cell_type": "code",
   "execution_count": 1,
   "metadata": {},
   "outputs": [],
   "source": [
    "import matplotlib.pyplot as plt\n",
    "import pandas as pd\n",
    "import scipy.stats as st\n",
    "import numpy as np"
   ]
  },
  {
   "cell_type": "code",
   "execution_count": 2,
   "metadata": {},
   "outputs": [],
   "source": [
    "SacDelivery_path = \"Final_Yelp_Data.csv\""
   ]
  },
  {
   "cell_type": "code",
   "execution_count": 3,
   "metadata": {},
   "outputs": [
    {
     "data": {
      "text/html": [
       "<div>\n",
       "<style scoped>\n",
       "    .dataframe tbody tr th:only-of-type {\n",
       "        vertical-align: middle;\n",
       "    }\n",
       "\n",
       "    .dataframe tbody tr th {\n",
       "        vertical-align: top;\n",
       "    }\n",
       "\n",
       "    .dataframe thead th {\n",
       "        text-align: right;\n",
       "    }\n",
       "</style>\n",
       "<table border=\"1\" class=\"dataframe\">\n",
       "  <thead>\n",
       "    <tr style=\"text-align: right;\">\n",
       "      <th></th>\n",
       "      <th>id</th>\n",
       "      <th>alias</th>\n",
       "      <th>name</th>\n",
       "      <th>url</th>\n",
       "      <th>review_count</th>\n",
       "      <th>categories</th>\n",
       "      <th>rating</th>\n",
       "      <th>coordinates</th>\n",
       "      <th>transactions</th>\n",
       "      <th>location</th>\n",
       "    </tr>\n",
       "  </thead>\n",
       "  <tbody>\n",
       "    <tr>\n",
       "      <th>0</th>\n",
       "      <td>Y3HNUBQJHAzWnnhk3iReiA</td>\n",
       "      <td>junoon-flavors-of-india-sacramento-2</td>\n",
       "      <td>Junoon Flavors Of India</td>\n",
       "      <td>https://www.yelp.com/biz/junoon-flavors-of-ind...</td>\n",
       "      <td>20</td>\n",
       "      <td>[{'alias': 'indpak', 'title': 'Indian'}]</td>\n",
       "      <td>5.0</td>\n",
       "      <td>{'latitude': 38.570471, 'longitude': -121.4571...</td>\n",
       "      <td>[]</td>\n",
       "      <td>{'address1': '3672 J St', 'address2': None, 'a...</td>\n",
       "    </tr>\n",
       "    <tr>\n",
       "      <th>1</th>\n",
       "      <td>9GhIDT1D_8-0ZxKDIB2WpA</td>\n",
       "      <td>shake-shack-sacramento</td>\n",
       "      <td>Shake Shack</td>\n",
       "      <td>https://www.yelp.com/biz/shake-shack-sacrament...</td>\n",
       "      <td>168</td>\n",
       "      <td>[{'alias': 'burgers', 'title': 'Burgers'}, {'a...</td>\n",
       "      <td>3.0</td>\n",
       "      <td>{'latitude': 38.568686, 'longitude': -121.487243}</td>\n",
       "      <td>['delivery']</td>\n",
       "      <td>{'address1': '1710 R St', 'address2': 'Ste 190...</td>\n",
       "    </tr>\n",
       "    <tr>\n",
       "      <th>2</th>\n",
       "      <td>LwiOfwMNDndIPm3QSh8wFQ</td>\n",
       "      <td>south-sacramento</td>\n",
       "      <td>South</td>\n",
       "      <td>https://www.yelp.com/biz/south-sacramento?adju...</td>\n",
       "      <td>1590</td>\n",
       "      <td>[{'alias': 'southern', 'title': 'Southern'}]</td>\n",
       "      <td>4.0</td>\n",
       "      <td>{'latitude': 38.5687015705627, 'longitude': -1...</td>\n",
       "      <td>['delivery']</td>\n",
       "      <td>{'address1': '2005 11th St', 'address2': '', '...</td>\n",
       "    </tr>\n",
       "    <tr>\n",
       "      <th>3</th>\n",
       "      <td>myoaFyZ9RIG_p2rkOQiWlA</td>\n",
       "      <td>fixins-soul-kitchen-sacramento-2</td>\n",
       "      <td>Fixins Soul Kitchen</td>\n",
       "      <td>https://www.yelp.com/biz/fixins-soul-kitchen-s...</td>\n",
       "      <td>946</td>\n",
       "      <td>[{'alias': 'soulfood', 'title': 'Soul Food'}, ...</td>\n",
       "      <td>4.5</td>\n",
       "      <td>{'latitude': 38.55147, 'longitude': -121.46924}</td>\n",
       "      <td>['delivery']</td>\n",
       "      <td>{'address1': '3428 3rd Ave', 'address2': '', '...</td>\n",
       "    </tr>\n",
       "    <tr>\n",
       "      <th>4</th>\n",
       "      <td>rQaH3Jr6BxFhX5pXa6W6_w</td>\n",
       "      <td>chando-s-tacos-sacramento</td>\n",
       "      <td>Chando’s Tacos</td>\n",
       "      <td>https://www.yelp.com/biz/chando-s-tacos-sacram...</td>\n",
       "      <td>14</td>\n",
       "      <td>[{'alias': 'mexican', 'title': 'Mexican'}]</td>\n",
       "      <td>4.5</td>\n",
       "      <td>{'latitude': 38.564075, 'longitude': -121.4340...</td>\n",
       "      <td>[]</td>\n",
       "      <td>{'address1': '5644 J St', 'address2': '', 'add...</td>\n",
       "    </tr>\n",
       "  </tbody>\n",
       "</table>\n",
       "</div>"
      ],
      "text/plain": [
       "                       id                                 alias  \\\n",
       "0  Y3HNUBQJHAzWnnhk3iReiA  junoon-flavors-of-india-sacramento-2   \n",
       "1  9GhIDT1D_8-0ZxKDIB2WpA                shake-shack-sacramento   \n",
       "2  LwiOfwMNDndIPm3QSh8wFQ                      south-sacramento   \n",
       "3  myoaFyZ9RIG_p2rkOQiWlA      fixins-soul-kitchen-sacramento-2   \n",
       "4  rQaH3Jr6BxFhX5pXa6W6_w             chando-s-tacos-sacramento   \n",
       "\n",
       "                      name                                                url  \\\n",
       "0  Junoon Flavors Of India  https://www.yelp.com/biz/junoon-flavors-of-ind...   \n",
       "1              Shake Shack  https://www.yelp.com/biz/shake-shack-sacrament...   \n",
       "2                    South  https://www.yelp.com/biz/south-sacramento?adju...   \n",
       "3      Fixins Soul Kitchen  https://www.yelp.com/biz/fixins-soul-kitchen-s...   \n",
       "4           Chando’s Tacos  https://www.yelp.com/biz/chando-s-tacos-sacram...   \n",
       "\n",
       "   review_count                                         categories  rating  \\\n",
       "0            20           [{'alias': 'indpak', 'title': 'Indian'}]     5.0   \n",
       "1           168  [{'alias': 'burgers', 'title': 'Burgers'}, {'a...     3.0   \n",
       "2          1590       [{'alias': 'southern', 'title': 'Southern'}]     4.0   \n",
       "3           946  [{'alias': 'soulfood', 'title': 'Soul Food'}, ...     4.5   \n",
       "4            14         [{'alias': 'mexican', 'title': 'Mexican'}]     4.5   \n",
       "\n",
       "                                         coordinates  transactions  \\\n",
       "0  {'latitude': 38.570471, 'longitude': -121.4571...            []   \n",
       "1  {'latitude': 38.568686, 'longitude': -121.487243}  ['delivery']   \n",
       "2  {'latitude': 38.5687015705627, 'longitude': -1...  ['delivery']   \n",
       "3    {'latitude': 38.55147, 'longitude': -121.46924}  ['delivery']   \n",
       "4  {'latitude': 38.564075, 'longitude': -121.4340...            []   \n",
       "\n",
       "                                            location  \n",
       "0  {'address1': '3672 J St', 'address2': None, 'a...  \n",
       "1  {'address1': '1710 R St', 'address2': 'Ste 190...  \n",
       "2  {'address1': '2005 11th St', 'address2': '', '...  \n",
       "3  {'address1': '3428 3rd Ave', 'address2': '', '...  \n",
       "4  {'address1': '5644 J St', 'address2': '', 'add...  "
      ]
     },
     "execution_count": 3,
     "metadata": {},
     "output_type": "execute_result"
    }
   ],
   "source": [
    "# Remove columns that we don't need\n",
    "SacDelivery = pd.read_csv(SacDelivery_path)\n",
    "del SacDelivery['Unnamed: 0.1'],SacDelivery['Unnamed: 0'],SacDelivery['distance'],SacDelivery['is_closed']\n",
    "del SacDelivery['image_url'],SacDelivery['phone'],SacDelivery['display_phone'],SacDelivery['price']\n",
    "SacDelivery.head()"
   ]
  },
  {
   "cell_type": "code",
   "execution_count": 4,
   "metadata": {},
   "outputs": [
    {
     "data": {
      "text/plain": [
       "id               object\n",
       "alias            object\n",
       "name             object\n",
       "url              object\n",
       "review_count      int64\n",
       "categories       object\n",
       "rating          float64\n",
       "coordinates      object\n",
       "transactions     object\n",
       "location         object\n",
       "dtype: object"
      ]
     },
     "execution_count": 4,
     "metadata": {},
     "output_type": "execute_result"
    }
   ],
   "source": [
    "# Check for dtypes\n",
    "SacDelivery.dtypes"
   ]
  },
  {
   "cell_type": "code",
   "execution_count": 5,
   "metadata": {},
   "outputs": [
    {
     "data": {
      "text/html": [
       "<div>\n",
       "<style scoped>\n",
       "    .dataframe tbody tr th:only-of-type {\n",
       "        vertical-align: middle;\n",
       "    }\n",
       "\n",
       "    .dataframe tbody tr th {\n",
       "        vertical-align: top;\n",
       "    }\n",
       "\n",
       "    .dataframe thead th {\n",
       "        text-align: right;\n",
       "    }\n",
       "</style>\n",
       "<table border=\"1\" class=\"dataframe\">\n",
       "  <thead>\n",
       "    <tr style=\"text-align: right;\">\n",
       "      <th></th>\n",
       "      <th>review_count</th>\n",
       "      <th>rating</th>\n",
       "    </tr>\n",
       "    <tr>\n",
       "      <th>name</th>\n",
       "      <th></th>\n",
       "      <th></th>\n",
       "    </tr>\n",
       "  </thead>\n",
       "  <tbody>\n",
       "    <tr>\n",
       "      <th>#1 Chop suey</th>\n",
       "      <td>38.0</td>\n",
       "      <td>3.0</td>\n",
       "    </tr>\n",
       "    <tr>\n",
       "      <th>3- N -1 BBQ</th>\n",
       "      <td>1.0</td>\n",
       "      <td>5.0</td>\n",
       "    </tr>\n",
       "    <tr>\n",
       "      <th>8th Street Pizza</th>\n",
       "      <td>119.0</td>\n",
       "      <td>4.0</td>\n",
       "    </tr>\n",
       "    <tr>\n",
       "      <th>916 Mexican Restaurant &amp; Sports Bar</th>\n",
       "      <td>17.0</td>\n",
       "      <td>3.0</td>\n",
       "    </tr>\n",
       "    <tr>\n",
       "      <th>A&amp;W</th>\n",
       "      <td>2.0</td>\n",
       "      <td>2.5</td>\n",
       "    </tr>\n",
       "    <tr>\n",
       "      <th>...</th>\n",
       "      <td>...</td>\n",
       "      <td>...</td>\n",
       "    </tr>\n",
       "    <tr>\n",
       "      <th>Zelda's Original Gourmet Pizza</th>\n",
       "      <td>882.0</td>\n",
       "      <td>3.5</td>\n",
       "    </tr>\n",
       "    <tr>\n",
       "      <th>Zócalo</th>\n",
       "      <td>1315.0</td>\n",
       "      <td>4.0</td>\n",
       "    </tr>\n",
       "    <tr>\n",
       "      <th>dominos  pizza</th>\n",
       "      <td>17.0</td>\n",
       "      <td>2.0</td>\n",
       "    </tr>\n",
       "    <tr>\n",
       "      <th>kultura cafe</th>\n",
       "      <td>39.0</td>\n",
       "      <td>5.0</td>\n",
       "    </tr>\n",
       "    <tr>\n",
       "      <th>la antigua hacienda</th>\n",
       "      <td>15.0</td>\n",
       "      <td>4.0</td>\n",
       "    </tr>\n",
       "  </tbody>\n",
       "</table>\n",
       "<p>613 rows × 2 columns</p>\n",
       "</div>"
      ],
      "text/plain": [
       "                                     review_count  rating\n",
       "name                                                     \n",
       "#1 Chop suey                                 38.0     3.0\n",
       "3- N -1 BBQ                                   1.0     5.0\n",
       "8th Street Pizza                            119.0     4.0\n",
       "916 Mexican Restaurant & Sports Bar          17.0     3.0\n",
       "A&W                                           2.0     2.5\n",
       "...                                           ...     ...\n",
       "Zelda's Original Gourmet Pizza              882.0     3.5\n",
       "Zócalo                                     1315.0     4.0\n",
       "dominos  pizza                               17.0     2.0\n",
       "kultura cafe                                 39.0     5.0\n",
       "la antigua hacienda                          15.0     4.0\n",
       "\n",
       "[613 rows x 2 columns]"
      ]
     },
     "execution_count": 5,
     "metadata": {},
     "output_type": "execute_result"
    }
   ],
   "source": [
    "SacDelivery['name'].value_counts()\n",
    "# Noticed that there are multiple instances of certain restaurants\n",
    "# We will want to groupby restaurant name and get means that way\n",
    "\n",
    "SacDelivery.groupby(['name']).mean()"
   ]
  },
  {
   "cell_type": "code",
   "execution_count": 6,
   "metadata": {},
   "outputs": [
    {
     "data": {
      "text/plain": [
       "['delivery']                                        316\n",
       "[]                                                  175\n",
       "['pickup', 'delivery']                              120\n",
       "['delivery', 'pickup']                               86\n",
       "['pickup']                                            9\n",
       "['restaurant_reservation', 'delivery']                3\n",
       "['restaurant_reservation', 'pickup', 'delivery']      2\n",
       "['restaurant_reservation']                            2\n",
       "['restaurant_reservation', 'delivery', 'pickup']      1\n",
       "Name: transactions, dtype: int64"
      ]
     },
     "execution_count": 6,
     "metadata": {},
     "output_type": "execute_result"
    }
   ],
   "source": [
    "SacDelivery['transactions'].value_counts()\n",
    "# Need to look in each value and see if delivery is in the list"
   ]
  },
  {
   "cell_type": "code",
   "execution_count": 9,
   "metadata": {},
   "outputs": [
    {
     "data": {
      "text/html": [
       "<div>\n",
       "<style scoped>\n",
       "    .dataframe tbody tr th:only-of-type {\n",
       "        vertical-align: middle;\n",
       "    }\n",
       "\n",
       "    .dataframe tbody tr th {\n",
       "        vertical-align: top;\n",
       "    }\n",
       "\n",
       "    .dataframe thead th {\n",
       "        text-align: right;\n",
       "    }\n",
       "</style>\n",
       "<table border=\"1\" class=\"dataframe\">\n",
       "  <thead>\n",
       "    <tr style=\"text-align: right;\">\n",
       "      <th></th>\n",
       "      <th></th>\n",
       "      <th>review_count</th>\n",
       "      <th>rating</th>\n",
       "    </tr>\n",
       "    <tr>\n",
       "      <th>Delivery?</th>\n",
       "      <th>name</th>\n",
       "      <th></th>\n",
       "      <th></th>\n",
       "    </tr>\n",
       "  </thead>\n",
       "  <tbody>\n",
       "    <tr>\n",
       "      <th rowspan=\"5\" valign=\"top\">False</th>\n",
       "      <th>3- N -1 BBQ</th>\n",
       "      <td>1.0</td>\n",
       "      <td>5.0</td>\n",
       "    </tr>\n",
       "    <tr>\n",
       "      <th>A&amp;W Restaurant</th>\n",
       "      <td>3.0</td>\n",
       "      <td>2.5</td>\n",
       "    </tr>\n",
       "    <tr>\n",
       "      <th>A1 Foods</th>\n",
       "      <td>18.0</td>\n",
       "      <td>4.5</td>\n",
       "    </tr>\n",
       "    <tr>\n",
       "      <th>All Angle BBQ</th>\n",
       "      <td>7.0</td>\n",
       "      <td>1.0</td>\n",
       "    </tr>\n",
       "    <tr>\n",
       "      <th>Anh Hong - Bo 7 Mon</th>\n",
       "      <td>63.0</td>\n",
       "      <td>3.5</td>\n",
       "    </tr>\n",
       "    <tr>\n",
       "      <th>...</th>\n",
       "      <th>...</th>\n",
       "      <td>...</td>\n",
       "      <td>...</td>\n",
       "    </tr>\n",
       "    <tr>\n",
       "      <th rowspan=\"5\" valign=\"top\">True</th>\n",
       "      <th>Yue Huang</th>\n",
       "      <td>591.0</td>\n",
       "      <td>3.5</td>\n",
       "    </tr>\n",
       "    <tr>\n",
       "      <th>Yum Cha Cafe</th>\n",
       "      <td>11.0</td>\n",
       "      <td>3.5</td>\n",
       "    </tr>\n",
       "    <tr>\n",
       "      <th>Zelda's Original Gourmet Pizza</th>\n",
       "      <td>882.0</td>\n",
       "      <td>3.5</td>\n",
       "    </tr>\n",
       "    <tr>\n",
       "      <th>Zócalo</th>\n",
       "      <td>1315.0</td>\n",
       "      <td>4.0</td>\n",
       "    </tr>\n",
       "    <tr>\n",
       "      <th>kultura cafe</th>\n",
       "      <td>39.0</td>\n",
       "      <td>5.0</td>\n",
       "    </tr>\n",
       "  </tbody>\n",
       "</table>\n",
       "<p>624 rows × 2 columns</p>\n",
       "</div>"
      ],
      "text/plain": [
       "                                          review_count  rating\n",
       "Delivery? name                                                \n",
       "False     3- N -1 BBQ                              1.0     5.0\n",
       "          A&W Restaurant                           3.0     2.5\n",
       "          A1 Foods                                18.0     4.5\n",
       "          All Angle BBQ                            7.0     1.0\n",
       "          Anh Hong - Bo 7 Mon                     63.0     3.5\n",
       "...                                                ...     ...\n",
       "True      Yue Huang                              591.0     3.5\n",
       "          Yum Cha Cafe                            11.0     3.5\n",
       "          Zelda's Original Gourmet Pizza         882.0     3.5\n",
       "          Zócalo                                1315.0     4.0\n",
       "          kultura cafe                            39.0     5.0\n",
       "\n",
       "[624 rows x 2 columns]"
      ]
     },
     "execution_count": 9,
     "metadata": {},
     "output_type": "execute_result"
    }
   ],
   "source": [
    "SacDelivery[\"Delivery?\"] = SacDelivery['transactions'].str.contains('delivery')\n",
    "DeliveryData = SacDelivery.groupby(['Delivery?','name']).mean()\n",
    "DeliveryData\n",
    "# Need to get the means of the "
   ]
  },
  {
   "cell_type": "code",
   "execution_count": 24,
   "metadata": {},
   "outputs": [
    {
     "data": {
      "text/html": [
       "<div>\n",
       "<style scoped>\n",
       "    .dataframe tbody tr th:only-of-type {\n",
       "        vertical-align: middle;\n",
       "    }\n",
       "\n",
       "    .dataframe tbody tr th {\n",
       "        vertical-align: top;\n",
       "    }\n",
       "\n",
       "    .dataframe thead th {\n",
       "        text-align: right;\n",
       "    }\n",
       "</style>\n",
       "<table border=\"1\" class=\"dataframe\">\n",
       "  <thead>\n",
       "    <tr style=\"text-align: right;\">\n",
       "      <th></th>\n",
       "      <th>Delivery?</th>\n",
       "      <th>Restaurant Name</th>\n",
       "      <th>Rating_mean</th>\n",
       "    </tr>\n",
       "  </thead>\n",
       "  <tbody>\n",
       "    <tr>\n",
       "      <th>0</th>\n",
       "      <td>False</td>\n",
       "      <td>3- N -1 BBQ</td>\n",
       "      <td>5.0</td>\n",
       "    </tr>\n",
       "    <tr>\n",
       "      <th>1</th>\n",
       "      <td>False</td>\n",
       "      <td>A&amp;W Restaurant</td>\n",
       "      <td>2.5</td>\n",
       "    </tr>\n",
       "    <tr>\n",
       "      <th>2</th>\n",
       "      <td>False</td>\n",
       "      <td>A1 Foods</td>\n",
       "      <td>4.5</td>\n",
       "    </tr>\n",
       "    <tr>\n",
       "      <th>3</th>\n",
       "      <td>False</td>\n",
       "      <td>All Angle BBQ</td>\n",
       "      <td>1.0</td>\n",
       "    </tr>\n",
       "    <tr>\n",
       "      <th>4</th>\n",
       "      <td>False</td>\n",
       "      <td>Anh Hong - Bo 7 Mon</td>\n",
       "      <td>3.5</td>\n",
       "    </tr>\n",
       "    <tr>\n",
       "      <th>...</th>\n",
       "      <td>...</td>\n",
       "      <td>...</td>\n",
       "      <td>...</td>\n",
       "    </tr>\n",
       "    <tr>\n",
       "      <th>619</th>\n",
       "      <td>True</td>\n",
       "      <td>Yue Huang</td>\n",
       "      <td>3.5</td>\n",
       "    </tr>\n",
       "    <tr>\n",
       "      <th>620</th>\n",
       "      <td>True</td>\n",
       "      <td>Yum Cha Cafe</td>\n",
       "      <td>3.5</td>\n",
       "    </tr>\n",
       "    <tr>\n",
       "      <th>621</th>\n",
       "      <td>True</td>\n",
       "      <td>Zelda's Original Gourmet Pizza</td>\n",
       "      <td>3.5</td>\n",
       "    </tr>\n",
       "    <tr>\n",
       "      <th>622</th>\n",
       "      <td>True</td>\n",
       "      <td>Zócalo</td>\n",
       "      <td>4.0</td>\n",
       "    </tr>\n",
       "    <tr>\n",
       "      <th>623</th>\n",
       "      <td>True</td>\n",
       "      <td>kultura cafe</td>\n",
       "      <td>5.0</td>\n",
       "    </tr>\n",
       "  </tbody>\n",
       "</table>\n",
       "<p>624 rows × 3 columns</p>\n",
       "</div>"
      ],
      "text/plain": [
       "     Delivery?                 Restaurant Name  Rating_mean\n",
       "0        False                     3- N -1 BBQ          5.0\n",
       "1        False                  A&W Restaurant          2.5\n",
       "2        False                        A1 Foods          4.5\n",
       "3        False                   All Angle BBQ          1.0\n",
       "4        False             Anh Hong - Bo 7 Mon          3.5\n",
       "..         ...                             ...          ...\n",
       "619       True                       Yue Huang          3.5\n",
       "620       True                    Yum Cha Cafe          3.5\n",
       "621       True  Zelda's Original Gourmet Pizza          3.5\n",
       "622       True                          Zócalo          4.0\n",
       "623       True                    kultura cafe          5.0\n",
       "\n",
       "[624 rows x 3 columns]"
      ]
     },
     "execution_count": 24,
     "metadata": {},
     "output_type": "execute_result"
    }
   ],
   "source": [
    "# Look at rating data\n",
    "RatingData = SacDelivery.groupby(['Delivery?','name']).agg({'rating': ['mean']})\n",
    "RatingData.columns = ['Rating_mean']\n",
    "RatingData = RatingData.reset_index()\n",
    "RatingData = RatingData.rename(columns={\"name\":\"Restaurant Name\"})\n",
    "RatingData"
   ]
  },
  {
   "cell_type": "code",
   "execution_count": 22,
   "metadata": {},
   "outputs": [
    {
     "data": {
      "text/html": [
       "<div>\n",
       "<style scoped>\n",
       "    .dataframe tbody tr th:only-of-type {\n",
       "        vertical-align: middle;\n",
       "    }\n",
       "\n",
       "    .dataframe tbody tr th {\n",
       "        vertical-align: top;\n",
       "    }\n",
       "\n",
       "    .dataframe thead th {\n",
       "        text-align: right;\n",
       "    }\n",
       "</style>\n",
       "<table border=\"1\" class=\"dataframe\">\n",
       "  <thead>\n",
       "    <tr style=\"text-align: right;\">\n",
       "      <th></th>\n",
       "      <th>Delivery?</th>\n",
       "      <th>Restaurant Name</th>\n",
       "      <th>Review Count Mean</th>\n",
       "    </tr>\n",
       "  </thead>\n",
       "  <tbody>\n",
       "    <tr>\n",
       "      <th>0</th>\n",
       "      <td>False</td>\n",
       "      <td>3- N -1 BBQ</td>\n",
       "      <td>1.0</td>\n",
       "    </tr>\n",
       "    <tr>\n",
       "      <th>1</th>\n",
       "      <td>False</td>\n",
       "      <td>A&amp;W Restaurant</td>\n",
       "      <td>3.0</td>\n",
       "    </tr>\n",
       "    <tr>\n",
       "      <th>2</th>\n",
       "      <td>False</td>\n",
       "      <td>A1 Foods</td>\n",
       "      <td>18.0</td>\n",
       "    </tr>\n",
       "    <tr>\n",
       "      <th>3</th>\n",
       "      <td>False</td>\n",
       "      <td>All Angle BBQ</td>\n",
       "      <td>7.0</td>\n",
       "    </tr>\n",
       "    <tr>\n",
       "      <th>4</th>\n",
       "      <td>False</td>\n",
       "      <td>Anh Hong - Bo 7 Mon</td>\n",
       "      <td>63.0</td>\n",
       "    </tr>\n",
       "    <tr>\n",
       "      <th>...</th>\n",
       "      <td>...</td>\n",
       "      <td>...</td>\n",
       "      <td>...</td>\n",
       "    </tr>\n",
       "    <tr>\n",
       "      <th>619</th>\n",
       "      <td>True</td>\n",
       "      <td>Yue Huang</td>\n",
       "      <td>591.0</td>\n",
       "    </tr>\n",
       "    <tr>\n",
       "      <th>620</th>\n",
       "      <td>True</td>\n",
       "      <td>Yum Cha Cafe</td>\n",
       "      <td>11.0</td>\n",
       "    </tr>\n",
       "    <tr>\n",
       "      <th>621</th>\n",
       "      <td>True</td>\n",
       "      <td>Zelda's Original Gourmet Pizza</td>\n",
       "      <td>882.0</td>\n",
       "    </tr>\n",
       "    <tr>\n",
       "      <th>622</th>\n",
       "      <td>True</td>\n",
       "      <td>Zócalo</td>\n",
       "      <td>1315.0</td>\n",
       "    </tr>\n",
       "    <tr>\n",
       "      <th>623</th>\n",
       "      <td>True</td>\n",
       "      <td>kultura cafe</td>\n",
       "      <td>39.0</td>\n",
       "    </tr>\n",
       "  </tbody>\n",
       "</table>\n",
       "<p>624 rows × 3 columns</p>\n",
       "</div>"
      ],
      "text/plain": [
       "     Delivery?                 Restaurant Name  Review Count Mean\n",
       "0        False                     3- N -1 BBQ                1.0\n",
       "1        False                  A&W Restaurant                3.0\n",
       "2        False                        A1 Foods               18.0\n",
       "3        False                   All Angle BBQ                7.0\n",
       "4        False             Anh Hong - Bo 7 Mon               63.0\n",
       "..         ...                             ...                ...\n",
       "619       True                       Yue Huang              591.0\n",
       "620       True                    Yum Cha Cafe               11.0\n",
       "621       True  Zelda's Original Gourmet Pizza              882.0\n",
       "622       True                          Zócalo             1315.0\n",
       "623       True                    kultura cafe               39.0\n",
       "\n",
       "[624 rows x 3 columns]"
      ]
     },
     "execution_count": 22,
     "metadata": {},
     "output_type": "execute_result"
    }
   ],
   "source": [
    "# Look at review_count data\n",
    "ReviewCountData = SacDelivery.groupby(['Delivery?','name']).agg({'review_count': ['mean']})\n",
    "ReviewCountData.columns = ['Review Count Mean']\n",
    "ReviewCountData = ReviewCountData.reset_index()\n",
    "ReviewCountData = ReviewCountData.rename(columns={\"name\":\"Restaurant Name\"})\n",
    "ReviewCountData"
   ]
  },
  {
   "cell_type": "code",
   "execution_count": 29,
   "metadata": {},
   "outputs": [
    {
     "data": {
      "text/html": [
       "<div>\n",
       "<style scoped>\n",
       "    .dataframe tbody tr th:only-of-type {\n",
       "        vertical-align: middle;\n",
       "    }\n",
       "\n",
       "    .dataframe tbody tr th {\n",
       "        vertical-align: top;\n",
       "    }\n",
       "\n",
       "    .dataframe thead th {\n",
       "        text-align: right;\n",
       "    }\n",
       "</style>\n",
       "<table border=\"1\" class=\"dataframe\">\n",
       "  <thead>\n",
       "    <tr style=\"text-align: right;\">\n",
       "      <th></th>\n",
       "      <th>Restaurant Name</th>\n",
       "      <th>Rating_mean</th>\n",
       "      <th>Delivery?</th>\n",
       "      <th>Review Count Mean</th>\n",
       "    </tr>\n",
       "  </thead>\n",
       "  <tbody>\n",
       "    <tr>\n",
       "      <th>0</th>\n",
       "      <td>3- N -1 BBQ</td>\n",
       "      <td>5.0</td>\n",
       "      <td>False</td>\n",
       "      <td>1.0</td>\n",
       "    </tr>\n",
       "    <tr>\n",
       "      <th>1</th>\n",
       "      <td>A&amp;W Restaurant</td>\n",
       "      <td>2.5</td>\n",
       "      <td>False</td>\n",
       "      <td>3.0</td>\n",
       "    </tr>\n",
       "    <tr>\n",
       "      <th>2</th>\n",
       "      <td>A1 Foods</td>\n",
       "      <td>4.5</td>\n",
       "      <td>False</td>\n",
       "      <td>18.0</td>\n",
       "    </tr>\n",
       "    <tr>\n",
       "      <th>3</th>\n",
       "      <td>All Angle BBQ</td>\n",
       "      <td>1.0</td>\n",
       "      <td>False</td>\n",
       "      <td>7.0</td>\n",
       "    </tr>\n",
       "    <tr>\n",
       "      <th>4</th>\n",
       "      <td>Anh Hong - Bo 7 Mon</td>\n",
       "      <td>3.5</td>\n",
       "      <td>False</td>\n",
       "      <td>63.0</td>\n",
       "    </tr>\n",
       "    <tr>\n",
       "      <th>...</th>\n",
       "      <td>...</td>\n",
       "      <td>...</td>\n",
       "      <td>...</td>\n",
       "      <td>...</td>\n",
       "    </tr>\n",
       "    <tr>\n",
       "      <th>641</th>\n",
       "      <td>Yue Huang</td>\n",
       "      <td>3.5</td>\n",
       "      <td>True</td>\n",
       "      <td>591.0</td>\n",
       "    </tr>\n",
       "    <tr>\n",
       "      <th>642</th>\n",
       "      <td>Yum Cha Cafe</td>\n",
       "      <td>3.5</td>\n",
       "      <td>True</td>\n",
       "      <td>11.0</td>\n",
       "    </tr>\n",
       "    <tr>\n",
       "      <th>643</th>\n",
       "      <td>Zelda's Original Gourmet Pizza</td>\n",
       "      <td>3.5</td>\n",
       "      <td>True</td>\n",
       "      <td>882.0</td>\n",
       "    </tr>\n",
       "    <tr>\n",
       "      <th>644</th>\n",
       "      <td>Zócalo</td>\n",
       "      <td>4.0</td>\n",
       "      <td>True</td>\n",
       "      <td>1315.0</td>\n",
       "    </tr>\n",
       "    <tr>\n",
       "      <th>645</th>\n",
       "      <td>kultura cafe</td>\n",
       "      <td>5.0</td>\n",
       "      <td>True</td>\n",
       "      <td>39.0</td>\n",
       "    </tr>\n",
       "  </tbody>\n",
       "</table>\n",
       "<p>646 rows × 4 columns</p>\n",
       "</div>"
      ],
      "text/plain": [
       "                    Restaurant Name  Rating_mean  Delivery?  Review Count Mean\n",
       "0                       3- N -1 BBQ          5.0      False                1.0\n",
       "1                    A&W Restaurant          2.5      False                3.0\n",
       "2                          A1 Foods          4.5      False               18.0\n",
       "3                     All Angle BBQ          1.0      False                7.0\n",
       "4               Anh Hong - Bo 7 Mon          3.5      False               63.0\n",
       "..                              ...          ...        ...                ...\n",
       "641                       Yue Huang          3.5       True              591.0\n",
       "642                    Yum Cha Cafe          3.5       True               11.0\n",
       "643  Zelda's Original Gourmet Pizza          3.5       True              882.0\n",
       "644                          Zócalo          4.0       True             1315.0\n",
       "645                    kultura cafe          5.0       True               39.0\n",
       "\n",
       "[646 rows x 4 columns]"
      ]
     },
     "execution_count": 29,
     "metadata": {},
     "output_type": "execute_result"
    }
   ],
   "source": [
    "RatingsAndReviews = pd.merge(RatingData, ReviewCountData, on=\"Restaurant Name\")\n",
    "RatingsAndReviews\n",
    "del RatingsAndReviews['Delivery?_x']\n",
    "RatingsAndReviews = RatingsAndReviews.rename(columns={\"Delivery?_y\":\"Delivery?\"})\n",
    "RatingsAndReviews"
   ]
  },
  {
   "cell_type": "code",
   "execution_count": 35,
   "metadata": {},
   "outputs": [
    {
     "data": {
      "text/plain": [
       "<matplotlib.collections.PathCollection at 0x1e282b2f608>"
      ]
     },
     "execution_count": 35,
     "metadata": {},
     "output_type": "execute_result"
    },
    {
     "data": {
      "image/png": "[encoded data removed]",
      "text/plain": [
       "<Figure size 432x288 with 1 Axes>"
      ]
     },
     "metadata": {
      "needs_background": "light"
     },
     "output_type": "display_data"
    }
   ],
   "source": [
    "# Not sure how to represent that delivery correlates with higher ratings and reviews\n",
    "x_axis = RatingsAndReviews['Rating_mean']\n",
    "y_axis = RatingsAndReviews[\"Delivery?\"]\n",
    "\n",
    "plt.scatter(x_axis, y_axis, marker=\"o\", facecolors=\"red\",\n",
    "            s=x_axis, alpha=0.75)"
   ]
  },
  {
   "cell_type": "code",
   "execution_count": 38,
   "metadata": {},
   "outputs": [
    {
     "data": {
      "text/plain": [
       "Restaurant Name       object\n",
       "Rating_mean          float64\n",
       "Delivery?               bool\n",
       "Review Count Mean    float64\n",
       "dtype: object"
      ]
     },
     "execution_count": 38,
     "metadata": {},
     "output_type": "execute_result"
    }
   ],
   "source": [
    "RatingsAndReviews.dtypes"
   ]
  },
  {
   "cell_type": "code",
   "execution_count": 37,
   "metadata": {},
   "outputs": [
    {
     "data": {
      "text/plain": [
       "[<matplotlib.lines.Line2D at 0x1e2820a1fc8>]"
      ]
     },
     "execution_count": 37,
     "metadata": {},
     "output_type": "execute_result"
    },
    {
     "data": {
      "image/png": "[encoded data removed]",
      "text/plain": [
       "<Figure size 432x288 with 1 Axes>"
      ]
     },
     "metadata": {
      "needs_background": "light"
     },
     "output_type": "display_data"
    }
   ],
   "source": [
    "plt.plot(x_axis,y_axis)"
   ]
  },
  {
   "cell_type": "code",
   "execution_count": 40,
   "metadata": {},
   "outputs": [],
   "source": [
    "# # Rating \n",
    "# DeliveryOptions = [\"Yes\",\"No\"]\n",
    "# GreatestVolume = []\n",
    "# # Calculate the IQR and quantitatively determine if there are any potential outliers. \n",
    "# for option in DeliveryOptions:\n",
    "#     NewDF = RatingsAndReviews[RatingsAndReviews['Delivery?'] == option]\n",
    "#     quartiles = NewDF[\"Rating_mean\"].quantile([.25,.5,.75])\n",
    "#     lowerq = quartiles[.25]\n",
    "#     upperq = quartiles[.75]\n",
    "#     iqr = upperq-lowerq\n",
    "    "
   ]
  },
  {
   "cell_type": "code",
   "execution_count": 88,
   "metadata": {},
   "outputs": [
    {
     "data": {
      "text/plain": [
       "Text(0.5, 1.0, 'Rating vs. Delivery')"
      ]
     },
     "execution_count": 88,
     "metadata": {},
     "output_type": "execute_result"
    },
    {
     "data": {
      "image/png": "[encoded data removed]",
      "text/plain": [
       "<Figure size 864x432 with 1 Axes>"
      ]
     },
     "metadata": {
      "needs_background": "light"
     },
     "output_type": "display_data"
    }
   ],
   "source": [
    "RatingsDF = RatingsAndReviews[[\"Restaurant Name\",\"Rating_mean\",\"Delivery?\"]].rename(columns={\"Rating_mean\":\"Rating\"})\n",
    "Ratingsboxplot = RatingsDF.boxplot(by='Delivery?',figsize=(12,6),vert=False,grid=False)\n",
    "Ratingsboxplot.set_ylabel('Delivery? (True/False)')\n",
    "Ratingsboxplot.set_xlabel('Rating')\n",
    "Ratingsboxplot.set_title('Rating vs. Delivery')"
   ]
  },
  {
   "cell_type": "code",
   "execution_count": 87,
   "metadata": {},
   "outputs": [
    {
     "data": {
      "text/plain": [
       "Text(0.5, 1.0, 'Review vs. Delivery')"
      ]
     },
     "execution_count": 87,
     "metadata": {},
     "output_type": "execute_result"
    },
    {
     "data": {
      "image/png": "[encoded data removed]",
      "text/plain": [
       "<Figure size 864x432 with 1 Axes>"
      ]
     },
     "metadata": {
      "needs_background": "light"
     },
     "output_type": "display_data"
    }
   ],
   "source": [
    "ReviewsDF = RatingsAndReviews[[\"Restaurant Name\",\"Review Count Mean\",\"Delivery?\"]].rename(columns={\"Review Count Mean\":\"Review Count\"})\n",
    "Reviewsboxplot = ReviewsDF.boxplot(by='Delivery?',figsize=(12,6),vert=False,grid=False)\n",
    "Reviewsboxplot.set_ylabel('Delivery? (True/False)')\n",
    "Reviewsboxplot.set_xlabel('Review Count')\n",
    "Reviewsboxplot.set_title('Review vs. Delivery')"
   ]
  },
  {
   "cell_type": "code",
   "execution_count": null,
   "metadata": {},
   "outputs": [],
   "source": []
  }
 ],
 "metadata": {
  "kernelspec": {
   "display_name": "Python 3",
   "language": "python",
   "name": "python3"
  },
  "language_info": {
   "codemirror_mode": {
    "name": "ipython",
    "version": 3
   },
   "file_extension": ".py",
   "mimetype": "text/x-python",
   "name": "python",
   "nbconvert_exporter": "python",
   "pygments_lexer": "ipython3",
   "version": "3.7.6"
  }
 },
 "nbformat": 4,
 "nbformat_minor": 4
}
